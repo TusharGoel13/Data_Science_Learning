{
  "nbformat": 4,
  "nbformat_minor": 0,
  "metadata": {
    "colab": {
      "provenance": []
    },
    "kernelspec": {
      "name": "python3",
      "display_name": "Python 3"
    },
    "language_info": {
      "name": "python"
    }
  },
  "cells": [
    {
      "cell_type": "markdown",
      "source": [
        "# Problem 1 : Say \"Hello, World!\" With Python"
      ],
      "metadata": {
        "id": "piSNvXBr-75k"
      }
    },
    {
      "cell_type": "code",
      "source": [
        "print(\"Hello, World!\")"
      ],
      "metadata": {
        "colab": {
          "base_uri": "https://localhost:8080/"
        },
        "id": "RRb9Y_zP-7gA",
        "outputId": "efb73666-e315-482c-a58b-bb48d7c93b6b"
      },
      "execution_count": 1,
      "outputs": [
        {
          "output_type": "stream",
          "name": "stdout",
          "text": [
            "Hello, World!\n"
          ]
        }
      ]
    },
    {
      "cell_type": "markdown",
      "source": [
        "# Problem 2 : Python If-Else\n",
        "Task :\n",
        "Given an integer, , perform the following conditional actions:\n",
        "*   If n is odd, print Weird\n",
        "*   If n is even and in the inclusive range of 2 to 5, print Not Weird\n",
        "*   If n is even and in the inclusive range of 6 to 20, print Weird\n",
        "*   If n is even and greater than 20, print Not Weird\n",
        "\n",
        "\n",
        "\n",
        "\n",
        "\n"
      ],
      "metadata": {
        "id": "lT45t8Re-8gk"
      }
    },
    {
      "cell_type": "code",
      "source": [
        "n = int(input().strip())\n",
        "if (n%2!=0 or (n in range(6,21))) :\n",
        "  print(\"Weird\")\n",
        "else :\n",
        "  print(\"Not Weird\")\n"
      ],
      "metadata": {
        "colab": {
          "base_uri": "https://localhost:8080/"
        },
        "id": "L5xuFbgr-619",
        "outputId": "fcce9a7f-d636-480c-8f3f-f88e753a0dbc"
      },
      "execution_count": 2,
      "outputs": [
        {
          "output_type": "stream",
          "name": "stdout",
          "text": [
            "5\n",
            "Weird\n"
          ]
        }
      ]
    },
    {
      "cell_type": "markdown",
      "source": [
        "# Problem 3 : Arithmetic Operators\n",
        "Task :\n",
        "The provided code stub reads two integers from STDIN, a  and b. Add code to print three lines where:\n",
        "\n",
        "*   The first line contains the sum of the two numbers.\n",
        "*   The second line contains the difference of the two numbers (first - second).\n",
        "*   The third line contains the product of the two numbers.\n",
        "\n",
        "\n",
        "\n",
        "\n",
        "\n"
      ],
      "metadata": {
        "id": "DMu4RHWl-84V"
      }
    },
    {
      "cell_type": "code",
      "source": [
        "a = int(input())\n",
        "b = int(input())\n",
        "print(\"------------\")\n",
        "print(\"Sum:\",a+b)\n",
        "print(\"Difference:\",a-b)\n",
        "print(\"Product:\",a*b)"
      ],
      "metadata": {
        "colab": {
          "base_uri": "https://localhost:8080/"
        },
        "id": "GaFo6NPK-6zX",
        "outputId": "02c22035-8e08-4d8f-b4f1-90f4a31ade9a"
      },
      "execution_count": 5,
      "outputs": [
        {
          "output_type": "stream",
          "name": "stdout",
          "text": [
            "5\n",
            "-2\n",
            "------------\n",
            "Sum: 3\n",
            "Difference: 7\n",
            "Product: -10\n"
          ]
        }
      ]
    },
    {
      "cell_type": "markdown",
      "source": [
        "# Problem 4 : Python: Division\n",
        "Task : \n",
        "The provided code stub reads two integers,a  and b , from STDIN.\n",
        "\n",
        "Add logic to print two lines. The first line should contain the result of integer division,  // . The second line should contain the result of float division,  / .\n",
        "\n",
        "No rounding or formatting is necessary."
      ],
      "metadata": {
        "id": "7iuDlyPO-9NN"
      }
    },
    {
      "cell_type": "code",
      "source": [
        "a = int(input())\n",
        "b = int(input())\n",
        "print(\"Integer Division:\",a//b)\n",
        "print(\"Float Division:\",a/b)"
      ],
      "metadata": {
        "colab": {
          "base_uri": "https://localhost:8080/"
        },
        "id": "DePDEsjv-6wl",
        "outputId": "eb60d6d7-c773-49db-9667-c852b5a05740"
      },
      "execution_count": 6,
      "outputs": [
        {
          "output_type": "stream",
          "name": "stdout",
          "text": [
            "4\n",
            "3\n",
            "Integer Division: 1\n",
            "Float Division: 1.3333333333333333\n"
          ]
        }
      ]
    },
    {
      "cell_type": "markdown",
      "source": [
        "# Problem 5 : Loops\n",
        "Task :     \n",
        "The provided code stub reads and integer, n, from STDIN. For all non-negative integers i<n ,print i^2."
      ],
      "metadata": {
        "id": "Ego5UbLm-9h1"
      }
    },
    {
      "cell_type": "code",
      "source": [
        "n = int(input())\n",
        "print(\"--------\")\n",
        "for i in range(0,n):\n",
        "    if(i>=0): print(i*i)"
      ],
      "metadata": {
        "colab": {
          "base_uri": "https://localhost:8080/"
        },
        "id": "jWi3wS88-6t5",
        "outputId": "3a75c129-c448-4894-f4e1-c9fa5cd099d4"
      },
      "execution_count": 7,
      "outputs": [
        {
          "output_type": "stream",
          "name": "stdout",
          "text": [
            "5\n",
            "--------\n",
            "0\n",
            "1\n",
            "4\n",
            "9\n",
            "16\n"
          ]
        }
      ]
    },
    {
      "cell_type": "markdown",
      "source": [
        "# Problem 6 : Write a function  \n",
        "Task :     \n",
        "Given a year, determine whether it is a leap year. If it is a leap year, return the Boolean True, otherwise return False."
      ],
      "metadata": {
        "id": "O5QzW7Q3-99q"
      }
    },
    {
      "cell_type": "code",
      "source": [
        "def is_leap(year):\n",
        "    leap = False\n",
        "    if ((year%4==0 and year%100!=0) or year%400==0 ) : leap = True\n",
        "    return leap\n",
        "\n",
        "year = int(input())\n",
        "print(is_leap(year))"
      ],
      "metadata": {
        "colab": {
          "base_uri": "https://localhost:8080/"
        },
        "id": "bxVzlfu5-6rD",
        "outputId": "dce84ce8-843a-496d-fc9b-5bbdf75bb791"
      },
      "execution_count": 8,
      "outputs": [
        {
          "output_type": "stream",
          "name": "stdout",
          "text": [
            "1900\n",
            "False\n"
          ]
        }
      ]
    },
    {
      "cell_type": "markdown",
      "source": [
        "# Problem 7 : Print Function\n",
        "Task :      \n",
        "The included code stub will read an integer,n , from STDIN.\n",
        "Without using any string methods, try to print the following: 123......n\n",
        "\n",
        "\n"
      ],
      "metadata": {
        "id": "impXqJOn--Pd"
      }
    },
    {
      "cell_type": "code",
      "execution_count": 9,
      "metadata": {
        "colab": {
          "base_uri": "https://localhost:8080/"
        },
        "id": "Otvg3wyU-wwU",
        "outputId": "800c63b9-1e23-48b3-d378-40ae84392241"
      },
      "outputs": [
        {
          "output_type": "stream",
          "name": "stdout",
          "text": [
            "5\n",
            "12345"
          ]
        }
      ],
      "source": [
        "n = int(input())\n",
        "for i in range(1,n+1):\n",
        "    print(i,end=\"\")"
      ]
    }
  ]
}