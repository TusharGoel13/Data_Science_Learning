{
  "nbformat": 4,
  "nbformat_minor": 0,
  "metadata": {
    "colab": {
      "provenance": []
    },
    "kernelspec": {
      "name": "python3",
      "display_name": "Python 3"
    },
    "language_info": {
      "name": "python"
    }
  },
  "cells": [
    {
      "cell_type": "markdown",
      "source": [
        "# Problem 1 : Running Sum of 1d Array\n",
        "Given an array nums. We define a running sum of an array as runningSum[i] = sum(nums[0]…nums[i]).\n",
        "\n",
        "Return the running sum of nums."
      ],
      "metadata": {
        "id": "GaldqNhoRgMI"
      }
    },
    {
      "cell_type": "code",
      "execution_count": 5,
      "metadata": {
        "colab": {
          "base_uri": "https://localhost:8080/"
        },
        "id": "EDHPDJH0Repn",
        "outputId": "8a4d8a82-bc1f-424c-de68-8bd774fa4249"
      },
      "outputs": [
        {
          "name": "stdout",
          "output_type": "stream",
          "text": [
            "Enter number of elements : 5\n",
            "1\n",
            "3\n",
            "5\n",
            "7\n",
            "9\n"
          ]
        },
        {
          "output_type": "execute_result",
          "data": {
            "text/plain": [
              "[1, 4, 9, 16, 25]"
            ]
          },
          "metadata": {},
          "execution_count": 5
        }
      ],
      "source": [
        "def runningSum(nums):\n",
        "    for i in range(1,len(nums)):\n",
        "        nums[i]+=nums[i-1]\n",
        "    return nums\n",
        "\n",
        "nums = []\n",
        "n = int(input(\"Enter number of elements : \"))\n",
        "\n",
        "for i in range(0,n):\n",
        "   l = int(input())\n",
        "   nums.append(l)\n",
        "\n",
        "runningSum(nums)"
      ]
    },
    {
      "cell_type": "markdown",
      "source": [
        "# Problem 2 : Shuffle the Array\n",
        "Given the array nums consisting of 2n elements in the form [x1,x2,...,xn,y1,y2,...,yn].\n",
        "\n",
        "Return the array in the form [x1,y1,x2,y2,...,xn,yn]."
      ],
      "metadata": {
        "id": "CcV5M0JURhuo"
      }
    },
    {
      "cell_type": "code",
      "source": [
        "def shuffle(nums,n):\n",
        "        shuffle_array = []\n",
        "        for i in range(0,n):\n",
        "            shuffle_array.append(nums[i])\n",
        "            shuffle_array.append(nums[i+n])\n",
        "\n",
        "        return shuffle_array\n",
        "\n",
        "\n",
        "nums = []\n",
        "n = int(input(\"Enter number of elements /2 : \"))\n",
        "\n",
        "for i in range(0,2*n):\n",
        "   l = int(input())\n",
        "   nums.append(l)\n",
        "\n",
        "print(\"Original:\",nums)\n",
        "print(\"Shuffled:\",shuffle(nums,n))"
      ],
      "metadata": {
        "colab": {
          "base_uri": "https://localhost:8080/"
        },
        "id": "LZsrtjc9RiCb",
        "outputId": "62456d68-50ad-48d7-9341-def617e0a72c"
      },
      "execution_count": 9,
      "outputs": [
        {
          "output_type": "stream",
          "name": "stdout",
          "text": [
            "Enter number of elements /2 : 3\n",
            "1\n",
            "2\n",
            "3\n",
            "4\n",
            "5\n",
            "6\n",
            "Original: [1, 2, 3, 4, 5, 6]\n",
            "Shuffled: [1, 4, 2, 5, 3, 6]\n"
          ]
        }
      ]
    },
    {
      "cell_type": "markdown",
      "source": [
        "# Problem 3 : Kids With the Greatest Number of Candies\n",
        "There are n kids with candies. You are given an integer array candies, where each candies[i] represents the number of candies the ith kid has, and an integer extraCandies, denoting the number of extra candies that you have.\n",
        "\n",
        "Return a boolean array result of length n, where result[i] is true if, after giving the ith kid all the extraCandies, they will have the greatest number of candies among all the kids, or false otherwise.\n",
        "\n",
        "Note that multiple kids can have the greatest number of candies."
      ],
      "metadata": {
        "id": "YsUxOZCWRif3"
      }
    },
    {
      "cell_type": "code",
      "source": [
        "def kidsWithCandies(candies,extraCandies):\n",
        "        max_candy = max(candies)\n",
        "        for i in range(0,len(candies)):\n",
        "            candies[i] = candies[i] + extraCandies >= max_candy\n",
        "        return candies\n",
        "\n",
        "candies = []\n",
        "n = int(input(\"Enter number of children : \"))\n",
        "for i in range(0,n):\n",
        "    l = int(input())\n",
        "    candies.append(l)\n",
        "print(candies)\n",
        "extraCandies = int(input(\"Enter number of extra candies : \"))\n",
        "\n",
        "kidsWithCandies(candies,extraCandies)"
      ],
      "metadata": {
        "colab": {
          "base_uri": "https://localhost:8080/"
        },
        "id": "WDHexE-4Ri_z",
        "outputId": "641d3472-4486-46a3-92e2-cd66167192e6"
      },
      "execution_count": 13,
      "outputs": [
        {
          "name": "stdout",
          "output_type": "stream",
          "text": [
            "Enter number of children : 5\n",
            "1\n",
            "3\n",
            "5\n",
            "2\n",
            "8\n",
            "[1, 3, 5, 2, 8]\n",
            "Enter number of extra candies : 5\n"
          ]
        },
        {
          "output_type": "execute_result",
          "data": {
            "text/plain": [
              "[False, True, True, False, True]"
            ]
          },
          "metadata": {},
          "execution_count": 13
        }
      ]
    }
  ]
}