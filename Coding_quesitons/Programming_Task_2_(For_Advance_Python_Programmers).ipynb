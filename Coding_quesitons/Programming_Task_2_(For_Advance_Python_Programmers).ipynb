{
  "nbformat": 4,
  "nbformat_minor": 0,
  "metadata": {
    "colab": {
      "provenance": []
    },
    "kernelspec": {
      "name": "python3",
      "display_name": "Python 3"
    },
    "language_info": {
      "name": "python"
    }
  },
  "cells": [
    {
      "cell_type": "markdown",
      "source": [
        "# 1. Defanging an IP Address\n",
        "Given a valid (IPv4) IP address, return a defanged version of that IP address.\n",
        "\n",
        "A defanged IP address replaces every period \".\" with \"[.]\"."
      ],
      "metadata": {
        "id": "ae9Mmxdchxta"
      }
    },
    {
      "cell_type": "code",
      "source": [
        "def defangIPaddr(address):\n",
        "       return address.replace(\".\",\"[.]\")\n",
        "\n",
        "s = input()\n",
        "defangIPaddr(s)"
      ],
      "metadata": {
        "id": "dtvsaENsiWQg",
        "colab": {
          "base_uri": "https://localhost:8080/",
          "height": 53
        },
        "outputId": "2300044b-e5aa-48f3-e969-1f76f6eb2028"
      },
      "execution_count": 1,
      "outputs": [
        {
          "name": "stdout",
          "output_type": "stream",
          "text": [
            "127.55.57.01\n"
          ]
        },
        {
          "output_type": "execute_result",
          "data": {
            "text/plain": [
              "'127[.]55[.]57[.]01'"
            ],
            "application/vnd.google.colaboratory.intrinsic+json": {
              "type": "string"
            }
          },
          "metadata": {},
          "execution_count": 1
        }
      ]
    },
    {
      "cell_type": "markdown",
      "source": [
        "# 2. Find Numbers with Even Number of Digits\n",
        "Given an array nums of integers, return how many of them contain an even number of digits."
      ],
      "metadata": {
        "id": "JkLG0gMMhyoW"
      }
    },
    {
      "cell_type": "code",
      "source": [
        "def findNumbers(nums):\n",
        "        return len([x for x in nums if len(str(x)) % 2 == 0])\n",
        "\n",
        "n = int(input())\n",
        "nums = list(map(int, input().split()))\n",
        "print(\"Numbers with even no. of digits:\",findNumbers(nums))"
      ],
      "metadata": {
        "id": "-kbUCffriV8W",
        "colab": {
          "base_uri": "https://localhost:8080/"
        },
        "outputId": "7bc9a24f-dc28-41b9-8893-622f065340e4"
      },
      "execution_count": 4,
      "outputs": [
        {
          "output_type": "stream",
          "name": "stdout",
          "text": [
            "4\n",
            "1 12 567 8456\n",
            "Numbers with even no. of digits: 2\n"
          ]
        }
      ]
    },
    {
      "cell_type": "markdown",
      "source": [
        "# 3. Number of Good Pairs\n",
        "Given an array of integers nums, return the number of good pairs.\n",
        "\n",
        "A pair (i, j) is called good if nums[i] == nums[j] and i < j."
      ],
      "metadata": {
        "id": "yKjaFCXqhylp"
      }
    },
    {
      "cell_type": "markdown",
      "source": [],
      "metadata": {
        "id": "bqjcXBwZhyjA"
      }
    },
    {
      "cell_type": "code",
      "source": [
        "def numIdenticalPairs(nums):\n",
        "        return len([i for i in range(len(nums)) for j in range(len(nums)) \n",
        "                                                if (i<j and nums[i]==nums[j])])\n",
        "nums = list(map(int, input().split()))\n",
        "print(\"No. of good pairs:\",numIdenticalPairs(nums))       \n"
      ],
      "metadata": {
        "id": "BIHl-MvPiVgn",
        "colab": {
          "base_uri": "https://localhost:8080/"
        },
        "outputId": "2bbbe1b4-199b-40f7-a977-433dbd4df9b4"
      },
      "execution_count": 5,
      "outputs": [
        {
          "output_type": "stream",
          "name": "stdout",
          "text": [
            "1 2 3 1 1 3 4\n",
            "No. of good pairs: 4\n"
          ]
        }
      ]
    },
    {
      "cell_type": "markdown",
      "source": [
        "# 4. How Many Numbers Are Smaller Than the Current Number\n",
        "Given the array nums, for each nums[i] find out how many numbers in the array are smaller than it. That is, for each nums[i] you have to count the number of valid j's such that j != i and nums[j] < nums[i].\n",
        "\n",
        "Return the answer in an array."
      ],
      "metadata": {
        "id": "adehUknlhygO"
      }
    },
    {
      "cell_type": "code",
      "source": [
        "def smallerNumbersThanCurrent(nums):\n",
        "        sorted_nums = sorted(nums)\n",
        "        return [sorted_nums.index(i) for i in nums]\n",
        "\n",
        "nums = list(map(int, input().split()))\n",
        "print(\"Output list:\",smallerNumbersThanCurrent(nums))"
      ],
      "metadata": {
        "id": "2xBX2e5ciU-R",
        "colab": {
          "base_uri": "https://localhost:8080/"
        },
        "outputId": "a4b3af8d-9537-4361-a829-5c1182e3c070"
      },
      "execution_count": 6,
      "outputs": [
        {
          "output_type": "stream",
          "name": "stdout",
          "text": [
            "8 1 2 2 3\n",
            "Output list: [4, 0, 1, 1, 3]\n"
          ]
        }
      ]
    },
    {
      "cell_type": "markdown",
      "source": [
        "# 5. Subtract the Product and Sum of Digits of an Integer\n",
        "Given an integer number n, return the difference between the product of its digits and the sum of its digits."
      ],
      "metadata": {
        "id": "wrs_WeNxhydC"
      }
    },
    {
      "cell_type": "code",
      "source": [
        "def subtractProductAndSum(n):\n",
        "        sum = 0\n",
        "        product = 1\n",
        "        while n!=0:\n",
        "            rem = n % 10\n",
        "            sum += rem\n",
        "            product *= rem\n",
        "            n //= 10\n",
        "        return product-sum\n",
        "\n",
        "n=int(input())\n",
        "print(\"Product-Sum:\",subtractProductAndSum(n))       "
      ],
      "metadata": {
        "id": "FJGZ6qzSiUpo",
        "colab": {
          "base_uri": "https://localhost:8080/"
        },
        "outputId": "04998a59-a0c2-492a-e51e-acb6b0ff8a61"
      },
      "execution_count": 8,
      "outputs": [
        {
          "output_type": "stream",
          "name": "stdout",
          "text": [
            "234\n",
            "Product-Sum: 15\n"
          ]
        }
      ]
    },
    {
      "cell_type": "markdown",
      "source": [
        "# 6.  XOR Operation in an Array\n",
        "You are given an integer n and an integer start.\n",
        "\n",
        "Define an array nums where nums[i] = start + 2 * i (0-indexed) and n == nums.length.\n",
        "\n",
        "Return the bitwise XOR of all elements of nums."
      ],
      "metadata": {
        "id": "160YLwwuhyUc"
      }
    },
    {
      "cell_type": "code",
      "source": [
        "def xorOperation(n,start):\n",
        "        xor = 0\n",
        "        for i in range(n):\n",
        "            num = start + 2 * i\n",
        "            xor ^= num\n",
        "        return xor\n",
        "\n",
        "n=int(input())\n",
        "start=int(input())\n",
        "print(\"XOR :\",xorOperation(n,start)) "
      ],
      "metadata": {
        "id": "T_bh_jmfiUWF",
        "colab": {
          "base_uri": "https://localhost:8080/"
        },
        "outputId": "e3b4c66b-cbfe-4fb1-e1a6-044187c9cc2a"
      },
      "execution_count": 9,
      "outputs": [
        {
          "output_type": "stream",
          "name": "stdout",
          "text": [
            "5\n",
            "1\n",
            "XOR : 9\n"
          ]
        }
      ]
    }
  ]
}