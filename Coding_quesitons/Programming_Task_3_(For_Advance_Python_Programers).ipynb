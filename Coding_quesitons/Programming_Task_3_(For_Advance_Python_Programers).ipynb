{
  "nbformat": 4,
  "nbformat_minor": 0,
  "metadata": {
    "colab": {
      "provenance": []
    },
    "kernelspec": {
      "name": "python3",
      "display_name": "Python 3"
    },
    "language_info": {
      "name": "python"
    }
  },
  "cells": [
    {
      "cell_type": "markdown",
      "source": [
        "# 1. Maximum Product of Two Elements in an Array\n",
        "Given the array of integers nums, you will choose two different indices i and j of that array. Return the maximum value of (nums[i]-1)*(nums[j]-1)."
      ],
      "metadata": {
        "id": "qhzATxuBJFgi"
      }
    },
    {
      "cell_type": "code",
      "source": [
        "def maxProduct(nums):\n",
        "        a = max(nums)\n",
        "        nums.remove(a)\n",
        "        return (a-1)*(max(nums)-1)\n",
        "\n",
        "nums = list(map(int, input().split()))\n",
        "print(\"Output:\",maxProduct(nums))"
      ],
      "metadata": {
        "colab": {
          "base_uri": "https://localhost:8080/"
        },
        "id": "-6nVsLS-Jdjm",
        "outputId": "7ef472d7-eb87-46ad-dfaf-169e33fb29f1"
      },
      "execution_count": 1,
      "outputs": [
        {
          "output_type": "stream",
          "name": "stdout",
          "text": [
            "1 5 4 8 2\n",
            "Output: 28\n"
          ]
        }
      ]
    },
    {
      "cell_type": "markdown",
      "source": [
        "# 2. Count Number of Teams\n",
        "There are n soldiers standing in a line. Each soldier is assigned a unique rating value.\n",
        "\n",
        "You have to form a team of 3 soldiers amongst them under the following rules:\n",
        "\n",
        "Choose 3 soldiers with index (i, j, k) with rating (rating[i], rating[j], rating[k]).\n",
        "A team is valid if: (rating[i] < rating[j] < rating[k]) or (rating[i] > rating[j] > rating[k]) where (0 <= i < j < k < n).\n",
        "Return the number of teams you can form given the conditions. (soldiers can be part of multiple teams)."
      ],
      "metadata": {
        "id": "xIY732xFJFeh"
      }
    },
    {
      "cell_type": "code",
      "source": [
        "''' Example for idea :\n",
        "rating = [2,1,6,4,7,3,9]\n",
        "pivot = 4\n",
        "left side  = 2,1,3\n",
        "right side = 7,6,9\n",
        "lesser =[0,0] where less[0] is left and less[0]is right\n",
        "similarly for greater[0,0]\n",
        "\n",
        "Now elements on left side smaller than pivot add to lesser[0] and greater than pivot add to greater[0]\n",
        "Then elements on right side where pivot is smaller add to lesser[1] and greater is pivot add to greater[1]\n",
        "\n",
        "Teams : 2,6,7   1,6,7   6,7,9\n",
        "        2,6,9   1,6,9   4,7,9\n",
        "        2,4,7   1,4,7   6,4,3\n",
        "        2,4,9   1,4,9   \n",
        "        2,7,9   1,7,9\n",
        "        2,3,9   1,3,9\n",
        "'''\n",
        "\n",
        "\n",
        "def numTeams(rating):\n",
        "        teams = 0\n",
        "        for i in range(1, len(rating) - 1):\n",
        "            lesser, greater = [0, 0], [0, 0]\n",
        "            for j in range(i):\n",
        "                if rating[j] < rating[i]:\n",
        "                    lesser[0] += 1\n",
        "                else:\n",
        "                    greater[0] += 1\n",
        "            \n",
        "            for k in range(i+1, len(rating)):\n",
        "                if rating[i] < rating[k]:\n",
        "                    lesser[1] += 1\n",
        "                else:\n",
        "                    greater[1] += 1\n",
        "            teams += lesser[0] * lesser[1] + greater[0] * greater[1]\n",
        "        return teams\n",
        "\n",
        "rating = list(map(int, input().split()))\n",
        "print(\"No. of teams:\",numTeams(rating))"
      ],
      "metadata": {
        "colab": {
          "base_uri": "https://localhost:8080/"
        },
        "id": "NZ7lYgqhJd_y",
        "outputId": "b9cbc037-4bb2-4884-86cc-eb60b457b247"
      },
      "execution_count": 5,
      "outputs": [
        {
          "output_type": "stream",
          "name": "stdout",
          "text": [
            "2 1 6 4 7 3 9\n",
            "No. of teams: 15\n"
          ]
        }
      ]
    },
    {
      "cell_type": "markdown",
      "source": [
        "# 3. Number of Students Doing Homework at a Given Time\n",
        "Given two integer arrays startTime and endTime and given an integer queryTime.\n",
        "\n",
        "The ith student started doing their homework at the time startTime[i] and finished it at time endTime[i].\n",
        "\n",
        "Return the number of students doing their homework at time queryTime. More formally, return the number of students where queryTime lays in the interval [startTime[i], endTime[i]] inclusive.\n",
        "\n",
        " "
      ],
      "metadata": {
        "id": "OE3iALiOJFcO"
      }
    },
    {
      "cell_type": "code",
      "source": [
        "def busyStudent(startTime,endTime,queryTime):\n",
        "    return len([i for i in range(len(startTime)) if (queryTime <= endTime[i] and queryTime >= startTime[i])])\n",
        "\n",
        "startTime = list(map(int, input().split()))\n",
        "endTime = list(map(int, input().split()))\n",
        "queryTime = int(input())\n",
        "print(\"No. of students studying at querytime:\",busyStudent(startTime,endTime,queryTime))"
      ],
      "metadata": {
        "colab": {
          "base_uri": "https://localhost:8080/"
        },
        "id": "BDsQqRasJedI",
        "outputId": "a210dec6-617d-4a5b-bece-8fce285c68cb"
      },
      "execution_count": 2,
      "outputs": [
        {
          "output_type": "stream",
          "name": "stdout",
          "text": [
            "1 4 5 7\n",
            "6 5 5 11\n",
            "5\n",
            "No. of students studying at querytime: 3\n"
          ]
        }
      ]
    },
    {
      "cell_type": "markdown",
      "source": [
        "# 4.  Number of Steps to Reduce a Number to Zero\n",
        "Given an integer num, return the number of steps to reduce it to zero.\n",
        "\n",
        "In one step, if the current number is even, you have to divide it by 2, otherwise, you have to subtract 1 from it.\n",
        "\n",
        " "
      ],
      "metadata": {
        "id": "9FzOSx7_JFZh"
      }
    },
    {
      "cell_type": "code",
      "source": [
        "def numberOfSteps(num):\n",
        "      if num == 0:\n",
        "          return 0\n",
        "      steps = 0\n",
        "      while num!=0:\n",
        "          if num%2==0 : num /= 2\n",
        "          else: num-=1\n",
        "          steps+=1\n",
        "      return steps\n",
        "\n",
        "num = int(input())\n",
        "print(\"No. of steps:\",numberOfSteps(num))"
      ],
      "metadata": {
        "colab": {
          "base_uri": "https://localhost:8080/"
        },
        "id": "Pif9JB3lJe6d",
        "outputId": "f64897f7-3032-40b4-b735-d6a17d1cc1d8"
      },
      "execution_count": 3,
      "outputs": [
        {
          "output_type": "stream",
          "name": "stdout",
          "text": [
            "14\n",
            "No. of steps: 6\n"
          ]
        }
      ]
    },
    {
      "cell_type": "markdown",
      "source": [
        "# 5. Counting Bits\n",
        "Given an integer n, return an array ans of length n + 1 such that for each i (0 <= i <= n), ans[i] is the number of 1's in the binary representation of i."
      ],
      "metadata": {
        "id": "l9w-vKLYJFXG"
      }
    },
    {
      "cell_type": "code",
      "source": [
        "def countBits(n):\n",
        "        ans = [0] * (n+1)\n",
        "        for i in range(1,n+1):\n",
        "            ans[i] = ans[i//2] + i%2\n",
        "        return ans\n",
        "\n",
        "n = int(input())\n",
        "print(\"Answer array :\",countBits(n))"
      ],
      "metadata": {
        "colab": {
          "base_uri": "https://localhost:8080/"
        },
        "id": "OskrDUPZJfg0",
        "outputId": "ff5c6fd4-e8ea-46a6-967f-4d8c76a62e47"
      },
      "execution_count": 4,
      "outputs": [
        {
          "output_type": "stream",
          "name": "stdout",
          "text": [
            "7\n",
            "Answer array : [0, 1, 1, 2, 1, 2, 2, 3]\n"
          ]
        }
      ]
    }
  ]
}