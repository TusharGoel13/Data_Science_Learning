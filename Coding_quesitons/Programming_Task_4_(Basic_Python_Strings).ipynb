{
  "nbformat": 4,
  "nbformat_minor": 0,
  "metadata": {
    "colab": {
      "provenance": []
    },
    "kernelspec": {
      "name": "python3",
      "display_name": "Python 3"
    },
    "language_info": {
      "name": "python"
    }
  },
  "cells": [
    {
      "cell_type": "markdown",
      "source": [
        "# 1. sWAP cASE\n",
        "You are given a string and your task is to swap cases. In other words, convert all lowercase letters to uppercase letters and vice versa."
      ],
      "metadata": {
        "id": "0XO1rsGGEJur"
      }
    },
    {
      "cell_type": "code",
      "source": [
        "def swap_case(s):\n",
        "    ans = \"\"\n",
        "    for i in s:\n",
        "        if i.isupper() : \n",
        "            ans+=i.lower()\n",
        "        else :\n",
        "            ans+=i.upper()\n",
        "    return ans\n",
        "\n",
        "s = input()\n",
        "result = swap_case(s)\n",
        "print(\"Swapped Case Sentence : \",result)"
      ],
      "metadata": {
        "colab": {
          "base_uri": "https://localhost:8080/"
        },
        "id": "oZMpzO2sETvB",
        "outputId": "9ca45902-2b66-4f50-fdc9-7d763485b324"
      },
      "execution_count": 2,
      "outputs": [
        {
          "output_type": "stream",
          "name": "stdout",
          "text": [
            "PythonIS EaSy TO LEarN 2.0\n",
            "Swapped Case Sentence :  pYTHONis eAsY to leARn 2.0\n"
          ]
        }
      ]
    },
    {
      "cell_type": "markdown",
      "source": [
        "# 2. String Split and Join\n",
        "In Python, a string can be split on a delimiter.You are given a string. Split the string on a \" \" (space) delimiter and join using a - hyphen."
      ],
      "metadata": {
        "id": "6kKANJ5fJPO0"
      }
    },
    {
      "cell_type": "code",
      "source": [
        "def split_and_join(line):\n",
        "    line = line.split()\n",
        "    return \"-\".join(line)    \n",
        "    \n",
        "\n",
        "line = input()\n",
        "result = split_and_join(line)\n",
        "print(\"After replacing \" \" with - :\",result)"
      ],
      "metadata": {
        "colab": {
          "base_uri": "https://localhost:8080/"
        },
        "id": "XZTPONzZJUpS",
        "outputId": "ebd1cbcd-7490-435e-c9f5-b0a350d83042"
      },
      "execution_count": 3,
      "outputs": [
        {
          "output_type": "stream",
          "name": "stdout",
          "text": [
            "this is a string\n",
            "After replacing  with - : this-is-a-string\n"
          ]
        }
      ]
    },
    {
      "cell_type": "markdown",
      "source": [
        "# 3. What's Your Name?\n",
        "You are given the firstname and lastname of a person on two different lines. Your task is to read them and print the following:\n",
        "\n",
        "> Hello firstname lastname! You just delved into python.\n",
        "\n"
      ],
      "metadata": {
        "id": "AI8UatRuKADw"
      }
    },
    {
      "cell_type": "code",
      "source": [
        "def print_full_name(first, last):\n",
        "    print(\"Hello \"+first+\" \"+last+\"! You just delved into python.\")\n",
        "\n",
        "first_name = input()\n",
        "last_name = input()\n",
        "print_full_name(first_name, last_name)"
      ],
      "metadata": {
        "colab": {
          "base_uri": "https://localhost:8080/"
        },
        "id": "AIrZSLZyKLck",
        "outputId": "364f6284-fbcc-407c-9555-1a6869d5803a"
      },
      "execution_count": 4,
      "outputs": [
        {
          "output_type": "stream",
          "name": "stdout",
          "text": [
            "Tushar\n",
            "Goel\n",
            "Hello Tushar Goel! You just delved into python.\n"
          ]
        }
      ]
    },
    {
      "cell_type": "markdown",
      "source": [
        "# 4. Mutations\n",
        "Read a given string, change the character at a given index and then print the modified string."
      ],
      "metadata": {
        "id": "S9TeannuK5ri"
      }
    },
    {
      "cell_type": "code",
      "source": [
        "def mutate_string(string, position, character):\n",
        "    return string[:position]+character+string[position+1:]\n",
        "\n",
        "s = input()\n",
        "i, c = input().split()\n",
        "s_new = mutate_string(s, int(i), c)\n",
        "print(\"New string : \",s_new)"
      ],
      "metadata": {
        "colab": {
          "base_uri": "https://localhost:8080/"
        },
        "id": "uICYjhEPLCFp",
        "outputId": "4526ad08-323d-4e40-c774-c72fdd28f9f7"
      },
      "execution_count": 7,
      "outputs": [
        {
          "output_type": "stream",
          "name": "stdout",
          "text": [
            "abacadabra\n",
            "7 l\n",
            "New string :  abacadalra\n"
          ]
        }
      ]
    },
    {
      "cell_type": "markdown",
      "source": [
        "# 5. Find a string\n",
        "The user enters a string and a substring. You have to print the number of times that the substring occurs in the given string. String traversal will take place from left to right, not from right to left."
      ],
      "metadata": {
        "id": "I7SW2ybsL-mB"
      }
    },
    {
      "cell_type": "code",
      "source": [
        "def count_substring(string, sub_string):\n",
        "    count = 0\n",
        "    for i in range(len(string)):\n",
        "        if string.startswith(sub_string,i):\n",
        "            count+=1\n",
        "    return count\n",
        "        \n",
        "string = input().strip()\n",
        "sub_string = input().strip()\n",
        "count = count_substring(string, sub_string)\n",
        "print(count)"
      ],
      "metadata": {
        "colab": {
          "base_uri": "https://localhost:8080/"
        },
        "id": "uDdheu3MMIO-",
        "outputId": "d5c0bf34-5bba-4dc1-e8dc-95aa7f943a3b"
      },
      "execution_count": 8,
      "outputs": [
        {
          "output_type": "stream",
          "name": "stdout",
          "text": [
            "ABCDABCDBCDGHF\n",
            "CDA\n",
            "1\n"
          ]
        }
      ]
    },
    {
      "cell_type": "markdown",
      "source": [
        "# 6. String Validators\n",
        "ou are given a string S.\n",
        "Your task is to find out if the string S contains: alphanumeric characters, alphabetical characters, digits, lowercase and uppercase characters."
      ],
      "metadata": {
        "id": "PQ3nVu8SNJ5M"
      }
    },
    {
      "cell_type": "code",
      "source": [
        "s = input()\n",
        "print(bool(any(i.isalnum() for i in s)))\n",
        "print(bool(any(i.isalpha() for i in s)))\n",
        "print(bool(any(i.isdigit() for i in s)))\n",
        "print(bool(any(i.islower() for i in s)))\n",
        "print(bool(any(i.isupper() for i in s)))"
      ],
      "metadata": {
        "colab": {
          "base_uri": "https://localhost:8080/"
        },
        "id": "rPb_ka4BNRdy",
        "outputId": "1f1f71c6-01ca-44c9-c021-216413941c3c"
      },
      "execution_count": 9,
      "outputs": [
        {
          "output_type": "stream",
          "name": "stdout",
          "text": [
            "q2\n",
            "True\n",
            "True\n",
            "True\n",
            "True\n",
            "False\n"
          ]
        }
      ]
    },
    {
      "cell_type": "markdown",
      "source": [
        "# 7. Text Alignment\n",
        "You are given a partial code that is used for generating the HackerRank Logo of variable thickness.\n",
        "Your task is to replace the blank (_ _ _ _ _ _) with rjust, ljust or center."
      ],
      "metadata": {
        "id": "jylA8lKcQ2OC"
      }
    },
    {
      "cell_type": "code",
      "source": [
        "'''\n",
        "#Top Cone\n",
        "for i in range(thickness):\n",
        "    print((c*i).______(thickness-1)+c+(c*i).______(thickness-1))\n",
        "\n",
        "#Top Pillars\n",
        "for i in range(thickness+1):\n",
        "    print((c*thickness).______(thickness*2)+(c*thickness).______(thickness*6))\n",
        "\n",
        "#Middle Belt\n",
        "for i in range((thickness+1)//2):\n",
        "    print((c*thickness*5).______(thickness*6))    \n",
        "\n",
        "#Bottom Pillars\n",
        "for i in range(thickness+1):\n",
        "    print((c*thickness).______(thickness*2)+(c*thickness).______(thickness*6))    \n",
        "\n",
        "#Bottom Cone\n",
        "for i in range(thickness):\n",
        "    print(((c*(thickness-i-1)).______(thickness)+c+(c*(thickness-i-1)).______(thickness)).______(thickness*6))\n",
        "'''\n",
        "\n",
        "thickness = int(input()) #This must be an odd number\n",
        "c = 'H'\n",
        "\n",
        "#Top Cone\n",
        "for i in range(thickness):\n",
        "    print((c*i).rjust(thickness-1)+c+(c*i).ljust(thickness-1))\n",
        "\n",
        "#Top Pillars\n",
        "for i in range(thickness+1):\n",
        "    print((c*thickness).center(thickness*2)+(c*thickness).center(thickness*6))\n",
        "\n",
        "#Middle Belt\n",
        "for i in range((thickness+1)//2):\n",
        "    print((c*thickness*5).center(thickness*6))    \n",
        "\n",
        "#Bottom Pillars\n",
        "for i in range(thickness+1):\n",
        "    print((c*thickness).center(thickness*2)+(c*thickness).center(thickness*6))    \n",
        "\n",
        "#Bottom Cone\n",
        "for i in range(thickness):\n",
        "    print(((c*(thickness-i-1)).rjust(thickness)+c+(c*(thickness-i-1)).ljust(thickness)).rjust(thickness*6))"
      ],
      "metadata": {
        "colab": {
          "base_uri": "https://localhost:8080/"
        },
        "id": "1voObOHHRAy9",
        "outputId": "39f94bc6-b948-464d-a606-e3220ccea3be"
      },
      "execution_count": 10,
      "outputs": [
        {
          "output_type": "stream",
          "name": "stdout",
          "text": [
            "5\n",
            "    H    \n",
            "   HHH   \n",
            "  HHHHH  \n",
            " HHHHHHH \n",
            "HHHHHHHHH\n",
            "  HHHHH               HHHHH             \n",
            "  HHHHH               HHHHH             \n",
            "  HHHHH               HHHHH             \n",
            "  HHHHH               HHHHH             \n",
            "  HHHHH               HHHHH             \n",
            "  HHHHH               HHHHH             \n",
            "  HHHHHHHHHHHHHHHHHHHHHHHHH   \n",
            "  HHHHHHHHHHHHHHHHHHHHHHHHH   \n",
            "  HHHHHHHHHHHHHHHHHHHHHHHHH   \n",
            "  HHHHH               HHHHH             \n",
            "  HHHHH               HHHHH             \n",
            "  HHHHH               HHHHH             \n",
            "  HHHHH               HHHHH             \n",
            "  HHHHH               HHHHH             \n",
            "  HHHHH               HHHHH             \n",
            "                    HHHHHHHHH \n",
            "                     HHHHHHH  \n",
            "                      HHHHH   \n",
            "                       HHH    \n",
            "                        H     \n"
          ]
        }
      ]
    },
    {
      "cell_type": "markdown",
      "source": [
        "# 8. Text Wrap\n",
        "You are given a string S and width w.\n",
        "Your task is to wrap the string into a paragraph of width w."
      ],
      "metadata": {
        "id": "vLOHlnduSLG0"
      }
    },
    {
      "cell_type": "code",
      "source": [
        "import textwrap\n",
        "\n",
        "def wrap(string, max_width):\n",
        "    return textwrap.fill(string,max_width)\n",
        "        \n",
        "string, max_width = input(), int(input())\n",
        "result = wrap(string, max_width)\n",
        "print(result)"
      ],
      "metadata": {
        "colab": {
          "base_uri": "https://localhost:8080/"
        },
        "id": "3tDeJzM3SWeP",
        "outputId": "8900a9ab-bc4a-4f72-e70a-d9a4f4763bc2"
      },
      "execution_count": 12,
      "outputs": [
        {
          "output_type": "stream",
          "name": "stdout",
          "text": [
            "ABACADABRALALALA\n",
            "4\n",
            "ABAC\n",
            "ADAB\n",
            "RALA\n",
            "LALA\n"
          ]
        }
      ]
    },
    {
      "cell_type": "markdown",
      "source": [
        "# 9. Designer Door Mat\n",
        "Mr. Vincent works in a door mat manufacturing company. One day, he designed a new door mat with the following specifications:\n",
        "\n",
        "Mat size must be X. ( is an odd natural number, and  is  times .)\n",
        "The design should have 'WELCOME' written in the center.\n",
        "The design pattern should only use |, . and - characters.\n",
        "\n",
        "![image.png](data:image/png;base64,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)"
      ],
      "metadata": {
        "id": "e3MNEjgeTeeJ"
      }
    },
    {
      "cell_type": "code",
      "source": [
        "n,m = map(int,input().split())\n",
        "\n",
        "for i in range(n): \n",
        "    if i%2==1: \n",
        "        print((\".|.\"*i).center(m , \"-\"))\n",
        "        \n",
        "print(\"WELCOME\".center(m , \"-\"))\n",
        "\n",
        "for i in range(1,n): \n",
        "    if (n-i)%2==1: \n",
        "        print((\".|.\"*(n-i)).center(m , \"-\"))"
      ],
      "metadata": {
        "colab": {
          "base_uri": "https://localhost:8080/"
        },
        "id": "0rnw2_8PTqNf",
        "outputId": "1fe24ea5-a7bc-4c74-ae1c-14f6fb997e4c"
      },
      "execution_count": 13,
      "outputs": [
        {
          "output_type": "stream",
          "name": "stdout",
          "text": [
            "7 21\n",
            "---------.|.---------\n",
            "------.|..|..|.------\n",
            "---.|..|..|..|..|.---\n",
            "-------WELCOME-------\n",
            "---.|..|..|..|..|.---\n",
            "------.|..|..|.------\n",
            "---------.|.---------\n"
          ]
        }
      ]
    },
    {
      "cell_type": "markdown",
      "source": [
        "# 10. String Formatting\n",
        "Given an integer,n, print the following values for each integer i from 1 to n :\n",
        "\n",
        "*   Decimal\n",
        "*   Octal\n",
        "*   Hexadecimal (capitalized)\n",
        "*   Binary\n",
        "\n",
        "\n",
        "\n",
        "\n",
        "\n",
        "\n",
        "\n",
        "\n"
      ],
      "metadata": {
        "id": "Ci9IMwzxVAaf"
      }
    },
    {
      "cell_type": "code",
      "source": [
        "def print_formatted(number):\n",
        "    width = len(str(bin(number))[2:])\n",
        "    \n",
        "    for i in range(1,number+1):\n",
        "        decimal = str(i)\n",
        "        octal = oct(i)[2:]\n",
        "        hexadecimal = hex(i)[2:].upper()\n",
        "        binary = bin(i)[2:]\n",
        "        print(f'{decimal.rjust(width)} {octal.rjust(width)} {hexadecimal.rjust(width)} {binary.rjust(width)}')  \n",
        "            \n",
        "n = int(input())\n",
        "print_formatted(n)"
      ],
      "metadata": {
        "colab": {
          "base_uri": "https://localhost:8080/"
        },
        "id": "keQ9W62KVTh6",
        "outputId": "8cc0b2bd-2c87-4d71-dcb6-8e3269b50be7"
      },
      "execution_count": 14,
      "outputs": [
        {
          "output_type": "stream",
          "name": "stdout",
          "text": [
            "17\n",
            "    1     1     1     1\n",
            "    2     2     2    10\n",
            "    3     3     3    11\n",
            "    4     4     4   100\n",
            "    5     5     5   101\n",
            "    6     6     6   110\n",
            "    7     7     7   111\n",
            "    8    10     8  1000\n",
            "    9    11     9  1001\n",
            "   10    12     A  1010\n",
            "   11    13     B  1011\n",
            "   12    14     C  1100\n",
            "   13    15     D  1101\n",
            "   14    16     E  1110\n",
            "   15    17     F  1111\n",
            "   16    20    10 10000\n",
            "   17    21    11 10001\n"
          ]
        }
      ]
    },
    {
      "cell_type": "markdown",
      "source": [
        "# 11. Alphabet Rangoli\n",
        "You are given an integer,N . Your task is to print an alphabet rangoli of size N."
      ],
      "metadata": {
        "id": "MmpPM3OiD9fc"
      }
    },
    {
      "cell_type": "code",
      "source": [
        "def print_rangoli(size):\n",
        "    width  = size*4-3\n",
        "    string = ''\n",
        "\n",
        "    for i in range(1,size+1):\n",
        "        for j in range(0,i):\n",
        "            string += chr(96+size-j)\n",
        "            if len(string) < width :\n",
        "                string += '-'\n",
        "        for k in range(i-1,0,-1):    \n",
        "            string += chr(97+size-k)\n",
        "            if len(string) < width :\n",
        "                string += '-'\n",
        "        print(string.center(width,'-'))\n",
        "        string = ''\n",
        "\n",
        "    for i in range(size-1,0,-1):\n",
        "        string = ''\n",
        "        for j in range(0,i):\n",
        "            string += chr(96+size-j)\n",
        "            if len(string) < width :\n",
        "                string += '-'\n",
        "        for k in range(i-1,0,-1):\n",
        "            string += chr(97+size-k)\n",
        "            if len(string) < width :\n",
        "                string += '-'\n",
        "        print(string.center(width,'-'))\n",
        "\n",
        "n = int(input())\n",
        "print_rangoli(n)"
      ],
      "metadata": {
        "colab": {
          "base_uri": "https://localhost:8080/"
        },
        "id": "hqjQnf1FD_Lx",
        "outputId": "3a890c08-fb63-43c7-c787-781a077eee7b"
      },
      "execution_count": 15,
      "outputs": [
        {
          "output_type": "stream",
          "name": "stdout",
          "text": [
            "5\n",
            "--------e--------\n",
            "------e-d-e------\n",
            "----e-d-c-d-e----\n",
            "--e-d-c-b-c-d-e--\n",
            "e-d-c-b-a-b-c-d-e\n",
            "--e-d-c-b-c-d-e--\n",
            "----e-d-c-d-e----\n",
            "------e-d-e------\n",
            "--------e--------\n"
          ]
        }
      ]
    },
    {
      "cell_type": "markdown",
      "source": [
        "# 12. Capitalize!\n",
        "You are asked to ensure that the first and last names of people begin with a capital letter in their passports."
      ],
      "metadata": {
        "id": "wvpTaVEsEDQ4"
      }
    },
    {
      "cell_type": "code",
      "source": [
        "def solve(s):\n",
        "    name = s.split(' ')\n",
        "    ans = []\n",
        "    for i in name:\n",
        "        ans.append(i.capitalize())\n",
        "    s = ' '.join(ans)\n",
        "    return(s)\n",
        "\n",
        "s = input()\n",
        "result = solve(s)\n",
        "print(result)"
      ],
      "metadata": {
        "colab": {
          "base_uri": "https://localhost:8080/"
        },
        "id": "ywmoGx-hEEni",
        "outputId": "04070461-daa4-4f85-e43d-43126507e09e"
      },
      "execution_count": 16,
      "outputs": [
        {
          "output_type": "stream",
          "name": "stdout",
          "text": [
            "tushar goel\n",
            "Tushar Goel\n"
          ]
        }
      ]
    },
    {
      "cell_type": "markdown",
      "source": [
        "# 13. The Minion Game\n",
        "Game Rules : \n",
        "\n",
        "Both players are given the same string,S .\n",
        "Both players have to make substrings using the letters of the string S.\n",
        "Stuart has to make words starting with consonants.\n",
        "Kevin has to make words starting with vowels.\n",
        "The game ends when both players have made all possible substrings.\n",
        "\n",
        "---\n",
        "Scoring : \n",
        "A player gets +1 point for each occurrence of the substring in the string S.\n",
        "\n",
        "---\n",
        "Example :\n",
        "String S = BANANA\n",
        "Kevin's vowel beginning word = ANA\n",
        "Here, ANA occurs twice in BANANA. Hence, Kevin will get 2 Points\n",
        "\n",
        "Your task is to determine the winner of the game and their score."
      ],
      "metadata": {
        "id": "cgCQ6xRpDecV"
      }
    },
    {
      "cell_type": "code",
      "execution_count": 17,
      "metadata": {
        "colab": {
          "base_uri": "https://localhost:8080/"
        },
        "id": "Trg6v1xUDEuz",
        "outputId": "6a28942e-bca8-4d16-a020-5864dc5f52b5"
      },
      "outputs": [
        {
          "output_type": "stream",
          "name": "stdout",
          "text": [
            "HOLAHOLA\n",
            "Stuart 20\n"
          ]
        }
      ],
      "source": [
        "def minion_game(string):\n",
        "    stuart = 0\n",
        "    kevin = 0\n",
        "    n = len(string)\n",
        "    for i in range(n):\n",
        "        if string[i] in ['A','I','O','U','E']:\n",
        "            kevin += n - i\n",
        "        else:\n",
        "            stuart += n - i\n",
        "    if stuart > kevin:\n",
        "        print(\"Stuart\",stuart)\n",
        "    elif kevin > stuart:\n",
        "        print(\"Kevin\",kevin)\n",
        "    else:\n",
        "        print(\"Draw\")\n",
        "\n",
        "s=input()\n",
        "minion_game(s)"
      ]
    },
    {
      "cell_type": "markdown",
      "source": [
        "# 14. Merge the Tools!\n",
        "![Screenshot 2023-03-02 213031.png](data:image/png;base64,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)"
      ],
      "metadata": {
        "id": "lsBYV03EDsv2"
      }
    },
    {
      "cell_type": "code",
      "source": [
        "def merge_the_tools(string, k):\n",
        "    for i in range(0,len(string),k):\n",
        "        t = string[i:i+k]\n",
        "        u = \"\"\n",
        "        for x in t:\n",
        "            if x not in u : u+=x\n",
        "        print(u)     \n",
        "    \n",
        "s = input()\n",
        "k = int(input())\n",
        "merge_the_tools(s,k)"
      ],
      "metadata": {
        "colab": {
          "base_uri": "https://localhost:8080/"
        },
        "id": "RL7yRL_hD3OD",
        "outputId": "141cb0db-f0b5-4d23-9fe1-5384dc1a64d7"
      },
      "execution_count": 19,
      "outputs": [
        {
          "output_type": "stream",
          "name": "stdout",
          "text": [
            "chabakchabak\n",
            "4\n",
            "chab\n",
            "akch\n",
            "abk\n"
          ]
        }
      ]
    }
  ]
}