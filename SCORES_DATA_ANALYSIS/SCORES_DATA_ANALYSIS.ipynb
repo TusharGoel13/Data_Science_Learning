{
  "cells": [
    {
      "cell_type": "code",
      "execution_count": 1,
      "metadata": {
        "colab": {
          "base_uri": "https://localhost:8080/",
          "height": 0
        },
        "id": "R1fStpwa0Wr0",
        "outputId": "50836e2b-50f1-4c40-9f36-474ebfbe72c9"
      },
      "outputs": [
        {
          "output_type": "stream",
          "name": "stdout",
          "text": [
            "Drive already mounted at /content/gdrive; to attempt to forcibly remount, call drive.mount(\"/content/gdrive\", force_remount=True).\n"
          ]
        }
      ],
      "source": [
        "# Connect to Drive folder\n",
        "\n",
        "from google.colab import drive\n",
        "drive.mount('/content/gdrive')"
      ]
    },
    {
      "cell_type": "code",
      "execution_count": 2,
      "metadata": {
        "id": "A0CQu17905PT"
      },
      "outputs": [],
      "source": [
        "# Import libraries\n",
        "\n",
        "import numpy as np\n",
        "import pandas as pd\n",
        "import seaborn as sns\n",
        "import matplotlib.pyplot as plt\n",
        "%matplotlib inline\n",
        "import scipy.stats as st\n",
        "import matplotlib as mpl\n",
        "import missingno as msno\n",
        "from scipy import stats"
      ]
    },
    {
      "cell_type": "markdown",
      "source": [
        "# DATAFRAME ANALYSIS"
      ],
      "metadata": {
        "id": "NIJUHPBK-LcL"
      }
    },
    {
      "cell_type": "code",
      "execution_count": 3,
      "metadata": {
        "id": "32bW0xeA0Wpu"
      },
      "outputs": [],
      "source": [
        "# Load the dataset from Drive folder\n",
        "\n",
        "df = pd.read_csv('/content/gdrive/My Drive/Colab Notebooks/INNOMATICS RESEARCH LAB INTERNSHIP/DATA ANALYSIS/P7_SCORES_DATA_ANALYSIS/scores_data.csv')"
      ]
    },
    {
      "cell_type": "code",
      "execution_count": 4,
      "metadata": {
        "colab": {
          "base_uri": "https://localhost:8080/",
          "height": 206
        },
        "id": "LOeAcQws0Wne",
        "outputId": "842fe90e-c85a-4a15-e13d-de326bf9479a"
      },
      "outputs": [
        {
          "output_type": "execute_result",
          "data": {
            "text/plain": [
              "       Batch  User_ID     Score   \n",
              "0  AI_ELITE_7  uid_149       6 / 7\n",
              "1  AI_ELITE_7  uid_148       6 / 7\n",
              "2  AI_ELITE_7  uid_147       7 / 7\n",
              "3  AI_ELITE_7  uid_146       7 / 7\n",
              "4  AI_ELITE_7  uid_145       4 / 7"
            ],
            "text/html": [
              "\n",
              "  <div id=\"df-b45c28c0-1a9c-44e4-b055-3916bd0bbe3b\">\n",
              "    <div class=\"colab-df-container\">\n",
              "      <div>\n",
              "<style scoped>\n",
              "    .dataframe tbody tr th:only-of-type {\n",
              "        vertical-align: middle;\n",
              "    }\n",
              "\n",
              "    .dataframe tbody tr th {\n",
              "        vertical-align: top;\n",
              "    }\n",
              "\n",
              "    .dataframe thead th {\n",
              "        text-align: right;\n",
              "    }\n",
              "</style>\n",
              "<table border=\"1\" class=\"dataframe\">\n",
              "  <thead>\n",
              "    <tr style=\"text-align: right;\">\n",
              "      <th></th>\n",
              "      <th>Batch</th>\n",
              "      <th>User_ID</th>\n",
              "      <th>Score</th>\n",
              "    </tr>\n",
              "  </thead>\n",
              "  <tbody>\n",
              "    <tr>\n",
              "      <th>0</th>\n",
              "      <td>AI_ELITE_7</td>\n",
              "      <td>uid_149</td>\n",
              "      <td>6 / 7</td>\n",
              "    </tr>\n",
              "    <tr>\n",
              "      <th>1</th>\n",
              "      <td>AI_ELITE_7</td>\n",
              "      <td>uid_148</td>\n",
              "      <td>6 / 7</td>\n",
              "    </tr>\n",
              "    <tr>\n",
              "      <th>2</th>\n",
              "      <td>AI_ELITE_7</td>\n",
              "      <td>uid_147</td>\n",
              "      <td>7 / 7</td>\n",
              "    </tr>\n",
              "    <tr>\n",
              "      <th>3</th>\n",
              "      <td>AI_ELITE_7</td>\n",
              "      <td>uid_146</td>\n",
              "      <td>7 / 7</td>\n",
              "    </tr>\n",
              "    <tr>\n",
              "      <th>4</th>\n",
              "      <td>AI_ELITE_7</td>\n",
              "      <td>uid_145</td>\n",
              "      <td>4 / 7</td>\n",
              "    </tr>\n",
              "  </tbody>\n",
              "</table>\n",
              "</div>\n",
              "      <button class=\"colab-df-convert\" onclick=\"convertToInteractive('df-b45c28c0-1a9c-44e4-b055-3916bd0bbe3b')\"\n",
              "              title=\"Convert this dataframe to an interactive table.\"\n",
              "              style=\"display:none;\">\n",
              "        \n",
              "  <svg xmlns=\"http://www.w3.org/2000/svg\" height=\"24px\"viewBox=\"0 0 24 24\"\n",
              "       width=\"24px\">\n",
              "    <path d=\"M0 0h24v24H0V0z\" fill=\"none\"/>\n",
              "    <path d=\"M18.56 5.44l.94 2.06.94-2.06 2.06-.94-2.06-.94-.94-2.06-.94 2.06-2.06.94zm-11 1L8.5 8.5l.94-2.06 2.06-.94-2.06-.94L8.5 2.5l-.94 2.06-2.06.94zm10 10l.94 2.06.94-2.06 2.06-.94-2.06-.94-.94-2.06-.94 2.06-2.06.94z\"/><path d=\"M17.41 7.96l-1.37-1.37c-.4-.4-.92-.59-1.43-.59-.52 0-1.04.2-1.43.59L10.3 9.45l-7.72 7.72c-.78.78-.78 2.05 0 2.83L4 21.41c.39.39.9.59 1.41.59.51 0 1.02-.2 1.41-.59l7.78-7.78 2.81-2.81c.8-.78.8-2.07 0-2.86zM5.41 20L4 18.59l7.72-7.72 1.47 1.35L5.41 20z\"/>\n",
              "  </svg>\n",
              "      </button>\n",
              "      \n",
              "  <style>\n",
              "    .colab-df-container {\n",
              "      display:flex;\n",
              "      flex-wrap:wrap;\n",
              "      gap: 12px;\n",
              "    }\n",
              "\n",
              "    .colab-df-convert {\n",
              "      background-color: #E8F0FE;\n",
              "      border: none;\n",
              "      border-radius: 50%;\n",
              "      cursor: pointer;\n",
              "      display: none;\n",
              "      fill: #1967D2;\n",
              "      height: 32px;\n",
              "      padding: 0 0 0 0;\n",
              "      width: 32px;\n",
              "    }\n",
              "\n",
              "    .colab-df-convert:hover {\n",
              "      background-color: #E2EBFA;\n",
              "      box-shadow: 0px 1px 2px rgba(60, 64, 67, 0.3), 0px 1px 3px 1px rgba(60, 64, 67, 0.15);\n",
              "      fill: #174EA6;\n",
              "    }\n",
              "\n",
              "    [theme=dark] .colab-df-convert {\n",
              "      background-color: #3B4455;\n",
              "      fill: #D2E3FC;\n",
              "    }\n",
              "\n",
              "    [theme=dark] .colab-df-convert:hover {\n",
              "      background-color: #434B5C;\n",
              "      box-shadow: 0px 1px 3px 1px rgba(0, 0, 0, 0.15);\n",
              "      filter: drop-shadow(0px 1px 2px rgba(0, 0, 0, 0.3));\n",
              "      fill: #FFFFFF;\n",
              "    }\n",
              "  </style>\n",
              "\n",
              "      <script>\n",
              "        const buttonEl =\n",
              "          document.querySelector('#df-b45c28c0-1a9c-44e4-b055-3916bd0bbe3b button.colab-df-convert');\n",
              "        buttonEl.style.display =\n",
              "          google.colab.kernel.accessAllowed ? 'block' : 'none';\n",
              "\n",
              "        async function convertToInteractive(key) {\n",
              "          const element = document.querySelector('#df-b45c28c0-1a9c-44e4-b055-3916bd0bbe3b');\n",
              "          const dataTable =\n",
              "            await google.colab.kernel.invokeFunction('convertToInteractive',\n",
              "                                                     [key], {});\n",
              "          if (!dataTable) return;\n",
              "\n",
              "          const docLinkHtml = 'Like what you see? Visit the ' +\n",
              "            '<a target=\"_blank\" href=https://colab.research.google.com/notebooks/data_table.ipynb>data table notebook</a>'\n",
              "            + ' to learn more about interactive tables.';\n",
              "          element.innerHTML = '';\n",
              "          dataTable['output_type'] = 'display_data';\n",
              "          await google.colab.output.renderOutput(dataTable, element);\n",
              "          const docLink = document.createElement('div');\n",
              "          docLink.innerHTML = docLinkHtml;\n",
              "          element.appendChild(docLink);\n",
              "        }\n",
              "      </script>\n",
              "    </div>\n",
              "  </div>\n",
              "  "
            ]
          },
          "metadata": {},
          "execution_count": 4
        }
      ],
      "source": [
        "# View first 5 rows of the DataFrame\n",
        "\n",
        "df.head()"
      ]
    },
    {
      "cell_type": "code",
      "source": [
        "# View last 5 rows of the DataFrame\n",
        "\n",
        "df.tail()"
      ],
      "metadata": {
        "colab": {
          "base_uri": "https://localhost:8080/",
          "height": 206
        },
        "id": "mmNo1J0Qn4Fy",
        "outputId": "add5582c-b97b-4f9a-8e16-098ffdea7ace"
      },
      "execution_count": 5,
      "outputs": [
        {
          "output_type": "execute_result",
          "data": {
            "text/plain": [
              "         Batch  User_ID     Score   \n",
              "144  AI_ELITE_4    uid_5       4 / 7\n",
              "145  AI_ELITE_4    uid_4       4 / 7\n",
              "146  AI_ELITE_4    uid_3       4 / 7\n",
              "147  AI_ELITE_4    uid_2       3 / 7\n",
              "148  AI_ELITE_4    uid_1       2 / 7"
            ],
            "text/html": [
              "\n",
              "  <div id=\"df-3c6acd23-e52d-4d73-b728-bf66ceb8443a\">\n",
              "    <div class=\"colab-df-container\">\n",
              "      <div>\n",
              "<style scoped>\n",
              "    .dataframe tbody tr th:only-of-type {\n",
              "        vertical-align: middle;\n",
              "    }\n",
              "\n",
              "    .dataframe tbody tr th {\n",
              "        vertical-align: top;\n",
              "    }\n",
              "\n",
              "    .dataframe thead th {\n",
              "        text-align: right;\n",
              "    }\n",
              "</style>\n",
              "<table border=\"1\" class=\"dataframe\">\n",
              "  <thead>\n",
              "    <tr style=\"text-align: right;\">\n",
              "      <th></th>\n",
              "      <th>Batch</th>\n",
              "      <th>User_ID</th>\n",
              "      <th>Score</th>\n",
              "    </tr>\n",
              "  </thead>\n",
              "  <tbody>\n",
              "    <tr>\n",
              "      <th>144</th>\n",
              "      <td>AI_ELITE_4</td>\n",
              "      <td>uid_5</td>\n",
              "      <td>4 / 7</td>\n",
              "    </tr>\n",
              "    <tr>\n",
              "      <th>145</th>\n",
              "      <td>AI_ELITE_4</td>\n",
              "      <td>uid_4</td>\n",
              "      <td>4 / 7</td>\n",
              "    </tr>\n",
              "    <tr>\n",
              "      <th>146</th>\n",
              "      <td>AI_ELITE_4</td>\n",
              "      <td>uid_3</td>\n",
              "      <td>4 / 7</td>\n",
              "    </tr>\n",
              "    <tr>\n",
              "      <th>147</th>\n",
              "      <td>AI_ELITE_4</td>\n",
              "      <td>uid_2</td>\n",
              "      <td>3 / 7</td>\n",
              "    </tr>\n",
              "    <tr>\n",
              "      <th>148</th>\n",
              "      <td>AI_ELITE_4</td>\n",
              "      <td>uid_1</td>\n",
              "      <td>2 / 7</td>\n",
              "    </tr>\n",
              "  </tbody>\n",
              "</table>\n",
              "</div>\n",
              "      <button class=\"colab-df-convert\" onclick=\"convertToInteractive('df-3c6acd23-e52d-4d73-b728-bf66ceb8443a')\"\n",
              "              title=\"Convert this dataframe to an interactive table.\"\n",
              "              style=\"display:none;\">\n",
              "        \n",
              "  <svg xmlns=\"http://www.w3.org/2000/svg\" height=\"24px\"viewBox=\"0 0 24 24\"\n",
              "       width=\"24px\">\n",
              "    <path d=\"M0 0h24v24H0V0z\" fill=\"none\"/>\n",
              "    <path d=\"M18.56 5.44l.94 2.06.94-2.06 2.06-.94-2.06-.94-.94-2.06-.94 2.06-2.06.94zm-11 1L8.5 8.5l.94-2.06 2.06-.94-2.06-.94L8.5 2.5l-.94 2.06-2.06.94zm10 10l.94 2.06.94-2.06 2.06-.94-2.06-.94-.94-2.06-.94 2.06-2.06.94z\"/><path d=\"M17.41 7.96l-1.37-1.37c-.4-.4-.92-.59-1.43-.59-.52 0-1.04.2-1.43.59L10.3 9.45l-7.72 7.72c-.78.78-.78 2.05 0 2.83L4 21.41c.39.39.9.59 1.41.59.51 0 1.02-.2 1.41-.59l7.78-7.78 2.81-2.81c.8-.78.8-2.07 0-2.86zM5.41 20L4 18.59l7.72-7.72 1.47 1.35L5.41 20z\"/>\n",
              "  </svg>\n",
              "      </button>\n",
              "      \n",
              "  <style>\n",
              "    .colab-df-container {\n",
              "      display:flex;\n",
              "      flex-wrap:wrap;\n",
              "      gap: 12px;\n",
              "    }\n",
              "\n",
              "    .colab-df-convert {\n",
              "      background-color: #E8F0FE;\n",
              "      border: none;\n",
              "      border-radius: 50%;\n",
              "      cursor: pointer;\n",
              "      display: none;\n",
              "      fill: #1967D2;\n",
              "      height: 32px;\n",
              "      padding: 0 0 0 0;\n",
              "      width: 32px;\n",
              "    }\n",
              "\n",
              "    .colab-df-convert:hover {\n",
              "      background-color: #E2EBFA;\n",
              "      box-shadow: 0px 1px 2px rgba(60, 64, 67, 0.3), 0px 1px 3px 1px rgba(60, 64, 67, 0.15);\n",
              "      fill: #174EA6;\n",
              "    }\n",
              "\n",
              "    [theme=dark] .colab-df-convert {\n",
              "      background-color: #3B4455;\n",
              "      fill: #D2E3FC;\n",
              "    }\n",
              "\n",
              "    [theme=dark] .colab-df-convert:hover {\n",
              "      background-color: #434B5C;\n",
              "      box-shadow: 0px 1px 3px 1px rgba(0, 0, 0, 0.15);\n",
              "      filter: drop-shadow(0px 1px 2px rgba(0, 0, 0, 0.3));\n",
              "      fill: #FFFFFF;\n",
              "    }\n",
              "  </style>\n",
              "\n",
              "      <script>\n",
              "        const buttonEl =\n",
              "          document.querySelector('#df-3c6acd23-e52d-4d73-b728-bf66ceb8443a button.colab-df-convert');\n",
              "        buttonEl.style.display =\n",
              "          google.colab.kernel.accessAllowed ? 'block' : 'none';\n",
              "\n",
              "        async function convertToInteractive(key) {\n",
              "          const element = document.querySelector('#df-3c6acd23-e52d-4d73-b728-bf66ceb8443a');\n",
              "          const dataTable =\n",
              "            await google.colab.kernel.invokeFunction('convertToInteractive',\n",
              "                                                     [key], {});\n",
              "          if (!dataTable) return;\n",
              "\n",
              "          const docLinkHtml = 'Like what you see? Visit the ' +\n",
              "            '<a target=\"_blank\" href=https://colab.research.google.com/notebooks/data_table.ipynb>data table notebook</a>'\n",
              "            + ' to learn more about interactive tables.';\n",
              "          element.innerHTML = '';\n",
              "          dataTable['output_type'] = 'display_data';\n",
              "          await google.colab.output.renderOutput(dataTable, element);\n",
              "          const docLink = document.createElement('div');\n",
              "          docLink.innerHTML = docLinkHtml;\n",
              "          element.appendChild(docLink);\n",
              "        }\n",
              "      </script>\n",
              "    </div>\n",
              "  </div>\n",
              "  "
            ]
          },
          "metadata": {},
          "execution_count": 5
        }
      ]
    },
    {
      "cell_type": "code",
      "execution_count": 6,
      "metadata": {
        "colab": {
          "base_uri": "https://localhost:8080/",
          "height": 0
        },
        "id": "rt7TuLcg0WlN",
        "outputId": "0e90514d-b620-4d9d-b9bd-ff4b6af2af15"
      },
      "outputs": [
        {
          "output_type": "stream",
          "name": "stdout",
          "text": [
            "<class 'pandas.core.frame.DataFrame'>\n",
            "RangeIndex: 149 entries, 0 to 148\n",
            "Data columns (total 3 columns):\n",
            " #   Column       Non-Null Count  Dtype \n",
            "---  ------       --------------  ----- \n",
            " 0   Batch        149 non-null    object\n",
            " 1   User_ID      149 non-null    object\n",
            " 2      Score     149 non-null    object\n",
            "dtypes: object(3)\n",
            "memory usage: 3.6+ KB\n"
          ]
        }
      ],
      "source": [
        "# View information about a DataFrame including the index dtype and columns, non-null values and memory usage\n",
        "\n",
        "df.info()"
      ]
    },
    {
      "cell_type": "code",
      "source": [
        "# View descriptive statistics of the DataFrame\n",
        "\n",
        "df.describe()"
      ],
      "metadata": {
        "colab": {
          "base_uri": "https://localhost:8080/",
          "height": 174
        },
        "id": "1YpIGmrXnUtd",
        "outputId": "fdc4a884-1551-4cc8-c962-670d3821f8e1"
      },
      "execution_count": 7,
      "outputs": [
        {
          "output_type": "execute_result",
          "data": {
            "text/plain": [
              "            Batch  User_ID     Score   \n",
              "count          149      149         149\n",
              "unique           3      149           8\n",
              "top     AI_ELITE_7  uid_149       4 / 7\n",
              "freq            53        1          40"
            ],
            "text/html": [
              "\n",
              "  <div id=\"df-2e9c35cf-ceac-4c39-9e01-69d780f98f89\">\n",
              "    <div class=\"colab-df-container\">\n",
              "      <div>\n",
              "<style scoped>\n",
              "    .dataframe tbody tr th:only-of-type {\n",
              "        vertical-align: middle;\n",
              "    }\n",
              "\n",
              "    .dataframe tbody tr th {\n",
              "        vertical-align: top;\n",
              "    }\n",
              "\n",
              "    .dataframe thead th {\n",
              "        text-align: right;\n",
              "    }\n",
              "</style>\n",
              "<table border=\"1\" class=\"dataframe\">\n",
              "  <thead>\n",
              "    <tr style=\"text-align: right;\">\n",
              "      <th></th>\n",
              "      <th>Batch</th>\n",
              "      <th>User_ID</th>\n",
              "      <th>Score</th>\n",
              "    </tr>\n",
              "  </thead>\n",
              "  <tbody>\n",
              "    <tr>\n",
              "      <th>count</th>\n",
              "      <td>149</td>\n",
              "      <td>149</td>\n",
              "      <td>149</td>\n",
              "    </tr>\n",
              "    <tr>\n",
              "      <th>unique</th>\n",
              "      <td>3</td>\n",
              "      <td>149</td>\n",
              "      <td>8</td>\n",
              "    </tr>\n",
              "    <tr>\n",
              "      <th>top</th>\n",
              "      <td>AI_ELITE_7</td>\n",
              "      <td>uid_149</td>\n",
              "      <td>4 / 7</td>\n",
              "    </tr>\n",
              "    <tr>\n",
              "      <th>freq</th>\n",
              "      <td>53</td>\n",
              "      <td>1</td>\n",
              "      <td>40</td>\n",
              "    </tr>\n",
              "  </tbody>\n",
              "</table>\n",
              "</div>\n",
              "      <button class=\"colab-df-convert\" onclick=\"convertToInteractive('df-2e9c35cf-ceac-4c39-9e01-69d780f98f89')\"\n",
              "              title=\"Convert this dataframe to an interactive table.\"\n",
              "              style=\"display:none;\">\n",
              "        \n",
              "  <svg xmlns=\"http://www.w3.org/2000/svg\" height=\"24px\"viewBox=\"0 0 24 24\"\n",
              "       width=\"24px\">\n",
              "    <path d=\"M0 0h24v24H0V0z\" fill=\"none\"/>\n",
              "    <path d=\"M18.56 5.44l.94 2.06.94-2.06 2.06-.94-2.06-.94-.94-2.06-.94 2.06-2.06.94zm-11 1L8.5 8.5l.94-2.06 2.06-.94-2.06-.94L8.5 2.5l-.94 2.06-2.06.94zm10 10l.94 2.06.94-2.06 2.06-.94-2.06-.94-.94-2.06-.94 2.06-2.06.94z\"/><path d=\"M17.41 7.96l-1.37-1.37c-.4-.4-.92-.59-1.43-.59-.52 0-1.04.2-1.43.59L10.3 9.45l-7.72 7.72c-.78.78-.78 2.05 0 2.83L4 21.41c.39.39.9.59 1.41.59.51 0 1.02-.2 1.41-.59l7.78-7.78 2.81-2.81c.8-.78.8-2.07 0-2.86zM5.41 20L4 18.59l7.72-7.72 1.47 1.35L5.41 20z\"/>\n",
              "  </svg>\n",
              "      </button>\n",
              "      \n",
              "  <style>\n",
              "    .colab-df-container {\n",
              "      display:flex;\n",
              "      flex-wrap:wrap;\n",
              "      gap: 12px;\n",
              "    }\n",
              "\n",
              "    .colab-df-convert {\n",
              "      background-color: #E8F0FE;\n",
              "      border: none;\n",
              "      border-radius: 50%;\n",
              "      cursor: pointer;\n",
              "      display: none;\n",
              "      fill: #1967D2;\n",
              "      height: 32px;\n",
              "      padding: 0 0 0 0;\n",
              "      width: 32px;\n",
              "    }\n",
              "\n",
              "    .colab-df-convert:hover {\n",
              "      background-color: #E2EBFA;\n",
              "      box-shadow: 0px 1px 2px rgba(60, 64, 67, 0.3), 0px 1px 3px 1px rgba(60, 64, 67, 0.15);\n",
              "      fill: #174EA6;\n",
              "    }\n",
              "\n",
              "    [theme=dark] .colab-df-convert {\n",
              "      background-color: #3B4455;\n",
              "      fill: #D2E3FC;\n",
              "    }\n",
              "\n",
              "    [theme=dark] .colab-df-convert:hover {\n",
              "      background-color: #434B5C;\n",
              "      box-shadow: 0px 1px 3px 1px rgba(0, 0, 0, 0.15);\n",
              "      filter: drop-shadow(0px 1px 2px rgba(0, 0, 0, 0.3));\n",
              "      fill: #FFFFFF;\n",
              "    }\n",
              "  </style>\n",
              "\n",
              "      <script>\n",
              "        const buttonEl =\n",
              "          document.querySelector('#df-2e9c35cf-ceac-4c39-9e01-69d780f98f89 button.colab-df-convert');\n",
              "        buttonEl.style.display =\n",
              "          google.colab.kernel.accessAllowed ? 'block' : 'none';\n",
              "\n",
              "        async function convertToInteractive(key) {\n",
              "          const element = document.querySelector('#df-2e9c35cf-ceac-4c39-9e01-69d780f98f89');\n",
              "          const dataTable =\n",
              "            await google.colab.kernel.invokeFunction('convertToInteractive',\n",
              "                                                     [key], {});\n",
              "          if (!dataTable) return;\n",
              "\n",
              "          const docLinkHtml = 'Like what you see? Visit the ' +\n",
              "            '<a target=\"_blank\" href=https://colab.research.google.com/notebooks/data_table.ipynb>data table notebook</a>'\n",
              "            + ' to learn more about interactive tables.';\n",
              "          element.innerHTML = '';\n",
              "          dataTable['output_type'] = 'display_data';\n",
              "          await google.colab.output.renderOutput(dataTable, element);\n",
              "          const docLink = document.createElement('div');\n",
              "          docLink.innerHTML = docLinkHtml;\n",
              "          element.appendChild(docLink);\n",
              "        }\n",
              "      </script>\n",
              "    </div>\n",
              "  </div>\n",
              "  "
            ]
          },
          "metadata": {},
          "execution_count": 7
        }
      ]
    },
    {
      "cell_type": "code",
      "source": [
        "# View shape of the DataFrame\n",
        "\n",
        "df.shape"
      ],
      "metadata": {
        "colab": {
          "base_uri": "https://localhost:8080/",
          "height": 0
        },
        "id": "ZspDJCvYoeJP",
        "outputId": "af720f6f-0ef2-4a00-d051-2208871b06ea"
      },
      "execution_count": 8,
      "outputs": [
        {
          "output_type": "execute_result",
          "data": {
            "text/plain": [
              "(149, 3)"
            ]
          },
          "metadata": {},
          "execution_count": 8
        }
      ]
    },
    {
      "cell_type": "code",
      "source": [
        "# Number of elements in each column\n",
        "\n",
        "df.count()"
      ],
      "metadata": {
        "colab": {
          "base_uri": "https://localhost:8080/",
          "height": 0
        },
        "id": "TISPOy_nom1h",
        "outputId": "8234a505-7fd8-44e8-e0f0-a8d73bf91850"
      },
      "execution_count": 9,
      "outputs": [
        {
          "output_type": "execute_result",
          "data": {
            "text/plain": [
              "Batch          149\n",
              "User_ID        149\n",
              "   Score       149\n",
              "dtype: int64"
            ]
          },
          "metadata": {},
          "execution_count": 9
        }
      ]
    },
    {
      "cell_type": "code",
      "source": [
        "# Counting number of duplicate rows\n",
        "\n",
        "duplicate_rows_df = df[df.duplicated()]\n",
        "print(\"number of duplicate rows: \", duplicate_rows_df.shape)"
      ],
      "metadata": {
        "colab": {
          "base_uri": "https://localhost:8080/",
          "height": 0
        },
        "id": "nbFlHMxloi_Y",
        "outputId": "4b2bab90-a8d4-4454-bd84-f8b021eb7814"
      },
      "execution_count": 10,
      "outputs": [
        {
          "output_type": "stream",
          "name": "stdout",
          "text": [
            "number of duplicate rows:  (0, 3)\n"
          ]
        }
      ]
    },
    {
      "cell_type": "code",
      "execution_count": 11,
      "metadata": {
        "colab": {
          "base_uri": "https://localhost:8080/",
          "height": 0
        },
        "id": "aM6pszH_0WiX",
        "outputId": "8317b5b5-bcfc-4579-944f-b5d8b5b50c41"
      },
      "outputs": [
        {
          "output_type": "execute_result",
          "data": {
            "text/plain": [
              "Index(['Batch ', 'User_ID ', '   Score   '], dtype='object')"
            ]
          },
          "metadata": {},
          "execution_count": 11
        }
      ],
      "source": [
        "# View columns of DataFrame\n",
        "\n",
        "df.columns"
      ]
    },
    {
      "cell_type": "code",
      "source": [
        "# Renaming columns to remove any spaces in name\n",
        "\n",
        "df.columns = df.columns.str.replace(' ', '')"
      ],
      "metadata": {
        "id": "BscYpnOHYKlh"
      },
      "execution_count": 12,
      "outputs": []
    },
    {
      "cell_type": "code",
      "source": [
        "# View columns of DataFrame\n",
        "\n",
        "df.columns"
      ],
      "metadata": {
        "colab": {
          "base_uri": "https://localhost:8080/",
          "height": 0
        },
        "id": "P0XXrAO1mrdP",
        "outputId": "d5d4a770-6dbd-43ea-d03f-7b262f97b1f7"
      },
      "execution_count": 13,
      "outputs": [
        {
          "output_type": "execute_result",
          "data": {
            "text/plain": [
              "Index(['Batch', 'User_ID', 'Score'], dtype='object')"
            ]
          },
          "metadata": {},
          "execution_count": 13
        }
      ]
    },
    {
      "cell_type": "code",
      "execution_count": 14,
      "metadata": {
        "colab": {
          "base_uri": "https://localhost:8080/",
          "height": 0
        },
        "id": "_RRiWJLa0Wfr",
        "outputId": "65575d30-ac89-4fca-fde6-6c563ed8a7ea"
      },
      "outputs": [
        {
          "output_type": "execute_result",
          "data": {
            "text/plain": [
              "array(['AI_ELITE_7', 'AI_ELITE_6', 'AI_ELITE_4'], dtype=object)"
            ]
          },
          "metadata": {},
          "execution_count": 14
        }
      ],
      "source": [
        "# Print unique entries in Batch column\n",
        "\n",
        "df['Batch'].unique()"
      ]
    },
    {
      "cell_type": "code",
      "execution_count": 15,
      "metadata": {
        "id": "b1n1dqsX0Gye",
        "colab": {
          "base_uri": "https://localhost:8080/",
          "height": 0
        },
        "outputId": "953d45f4-b057-40aa-fa67-a88565ad63b1"
      },
      "outputs": [
        {
          "output_type": "execute_result",
          "data": {
            "text/plain": [
              "array(['6 / 7', '7 / 7', '4 / 7', '5 / 7', '3 / 7', '2 / 7', '0 / 7',\n",
              "       '1 / 7'], dtype=object)"
            ]
          },
          "metadata": {},
          "execution_count": 15
        }
      ],
      "source": [
        "# Print unique entries in Score column\n",
        "\n",
        "df['Score'].unique()"
      ]
    },
    {
      "cell_type": "code",
      "source": [
        "# Print numerical columns of DataFrame\n",
        "\n",
        "numeric_features = df.select_dtypes(include=[np.number])\n",
        "numeric_features.columns"
      ],
      "metadata": {
        "colab": {
          "base_uri": "https://localhost:8080/",
          "height": 0
        },
        "id": "O95w59LHn-BA",
        "outputId": "8fce4fe8-39f3-4009-eb39-e94748e86f05"
      },
      "execution_count": 16,
      "outputs": [
        {
          "output_type": "execute_result",
          "data": {
            "text/plain": [
              "Index([], dtype='object')"
            ]
          },
          "metadata": {},
          "execution_count": 16
        }
      ]
    },
    {
      "cell_type": "code",
      "source": [
        "# Print categorical columns of DataFrame\n",
        "\n",
        "categorical_features = df.select_dtypes(include=[np.object])\n",
        "categorical_features.columns"
      ],
      "metadata": {
        "colab": {
          "base_uri": "https://localhost:8080/",
          "height": 0
        },
        "id": "D5AZgFoIoChh",
        "outputId": "b36975c7-25db-4c59-df22-772e048f4937"
      },
      "execution_count": 17,
      "outputs": [
        {
          "output_type": "stream",
          "name": "stderr",
          "text": [
            "<ipython-input-17-886643fe52e6>:3: DeprecationWarning: `np.object` is a deprecated alias for the builtin `object`. To silence this warning, use `object` by itself. Doing this will not modify any behavior and is safe. \n",
            "Deprecated in NumPy 1.20; for more details and guidance: https://numpy.org/devdocs/release/1.20.0-notes.html#deprecations\n",
            "  categorical_features = df.select_dtypes(include=[np.object])\n"
          ]
        },
        {
          "output_type": "execute_result",
          "data": {
            "text/plain": [
              "Index(['Batch', 'User_ID', 'Score'], dtype='object')"
            ]
          },
          "metadata": {},
          "execution_count": 17
        }
      ]
    },
    {
      "cell_type": "code",
      "execution_count": 18,
      "metadata": {
        "id": "cYs26vG7127q",
        "colab": {
          "base_uri": "https://localhost:8080/",
          "height": 0
        },
        "outputId": "26fae297-6683-4208-b983-03c5aa004944"
      },
      "outputs": [
        {
          "output_type": "execute_result",
          "data": {
            "text/plain": [
              "Batch      0\n",
              "User_ID    0\n",
              "Score      0\n",
              "dtype: int64"
            ]
          },
          "metadata": {},
          "execution_count": 18
        }
      ],
      "source": [
        "# Total number of null entries in each column\n",
        "\n",
        "df.isnull().sum()"
      ]
    },
    {
      "cell_type": "code",
      "source": [
        "# Extracted scores obtained out of 7 in a new column Obtained\n",
        "\n",
        "Obtained = df.Score.str.extract('(\\d)')\n",
        "print(Obtained)"
      ],
      "metadata": {
        "colab": {
          "base_uri": "https://localhost:8080/",
          "height": 0
        },
        "id": "ik8ap0fAuBBk",
        "outputId": "557d5f8f-dbfa-4c15-b6e9-31dece966d72"
      },
      "execution_count": 19,
      "outputs": [
        {
          "output_type": "stream",
          "name": "stdout",
          "text": [
            "     0\n",
            "0    6\n",
            "1    6\n",
            "2    7\n",
            "3    7\n",
            "4    4\n",
            "..  ..\n",
            "144  4\n",
            "145  4\n",
            "146  4\n",
            "147  3\n",
            "148  2\n",
            "\n",
            "[149 rows x 1 columns]\n"
          ]
        }
      ]
    },
    {
      "cell_type": "code",
      "source": [
        "# View information about a DataFrame including the index dtype and columns, non-null values and memory usage\n",
        "\n",
        "df.info()"
      ],
      "metadata": {
        "colab": {
          "base_uri": "https://localhost:8080/",
          "height": 0
        },
        "id": "eCDfa87ZzFri",
        "outputId": "7c7ddda7-76bf-4f4f-db66-d8f215fc2d5e"
      },
      "execution_count": 20,
      "outputs": [
        {
          "output_type": "stream",
          "name": "stdout",
          "text": [
            "<class 'pandas.core.frame.DataFrame'>\n",
            "RangeIndex: 149 entries, 0 to 148\n",
            "Data columns (total 3 columns):\n",
            " #   Column   Non-Null Count  Dtype \n",
            "---  ------   --------------  ----- \n",
            " 0   Batch    149 non-null    object\n",
            " 1   User_ID  149 non-null    object\n",
            " 2   Score    149 non-null    object\n",
            "dtypes: object(3)\n",
            "memory usage: 3.6+ KB\n"
          ]
        }
      ]
    },
    {
      "cell_type": "code",
      "source": [
        "# Convert Obtained column from categorical to numeric\n",
        "\n",
        "df['Obtained'] = Obtained.apply(pd.to_numeric)"
      ],
      "metadata": {
        "id": "zBztCLZ1zaBY"
      },
      "execution_count": 21,
      "outputs": []
    },
    {
      "cell_type": "code",
      "source": [
        "# View information about a DataFrame including the index dtype and columns, non-null values and memory usage\n",
        "\n",
        "df.info()"
      ],
      "metadata": {
        "colab": {
          "base_uri": "https://localhost:8080/",
          "height": 0
        },
        "id": "Iozz0yJQzfSH",
        "outputId": "1f8291d8-edbd-44bb-9ab7-cb64ff2fbe24"
      },
      "execution_count": 22,
      "outputs": [
        {
          "output_type": "stream",
          "name": "stdout",
          "text": [
            "<class 'pandas.core.frame.DataFrame'>\n",
            "RangeIndex: 149 entries, 0 to 148\n",
            "Data columns (total 4 columns):\n",
            " #   Column    Non-Null Count  Dtype \n",
            "---  ------    --------------  ----- \n",
            " 0   Batch     149 non-null    object\n",
            " 1   User_ID   149 non-null    object\n",
            " 2   Score     149 non-null    object\n",
            " 3   Obtained  149 non-null    int64 \n",
            "dtypes: int64(1), object(3)\n",
            "memory usage: 4.8+ KB\n"
          ]
        }
      ]
    },
    {
      "cell_type": "code",
      "source": [
        "# Drop User_ID column from DataFrame as it is redundant\n",
        "\n",
        "df = df.drop('User_ID',axis=1)"
      ],
      "metadata": {
        "id": "uHBUwR36G72R"
      },
      "execution_count": 23,
      "outputs": []
    },
    {
      "cell_type": "code",
      "source": [
        "print(df)"
      ],
      "metadata": {
        "colab": {
          "base_uri": "https://localhost:8080/",
          "height": 0
        },
        "id": "c9mit617IEvu",
        "outputId": "964e3404-e157-430c-e282-e63588dadb75"
      },
      "execution_count": 24,
      "outputs": [
        {
          "output_type": "stream",
          "name": "stdout",
          "text": [
            "          Batch  Score  Obtained\n",
            "0    AI_ELITE_7  6 / 7         6\n",
            "1    AI_ELITE_7  6 / 7         6\n",
            "2    AI_ELITE_7  7 / 7         7\n",
            "3    AI_ELITE_7  7 / 7         7\n",
            "4    AI_ELITE_7  4 / 7         4\n",
            "..          ...    ...       ...\n",
            "144  AI_ELITE_4  4 / 7         4\n",
            "145  AI_ELITE_4  4 / 7         4\n",
            "146  AI_ELITE_4  4 / 7         4\n",
            "147  AI_ELITE_4  3 / 7         3\n",
            "148  AI_ELITE_4  2 / 7         2\n",
            "\n",
            "[149 rows x 3 columns]\n"
          ]
        }
      ]
    },
    {
      "cell_type": "code",
      "source": [
        "# Print count of unique rows in DataFrame\n",
        "\n",
        "df.value_counts()"
      ],
      "metadata": {
        "colab": {
          "base_uri": "https://localhost:8080/",
          "height": 0
        },
        "id": "WuTxRLD3YtnS",
        "outputId": "6ad81968-c834-4f17-cd8a-fb20bc1807f8"
      },
      "execution_count": 25,
      "outputs": [
        {
          "output_type": "execute_result",
          "data": {
            "text/plain": [
              "Batch       Score  Obtained\n",
              "AI_ELITE_4  4 / 7  4           19\n",
              "AI_ELITE_7  6 / 7  6           13\n",
              "AI_ELITE_6  5 / 7  5           13\n",
              "            4 / 7  4           11\n",
              "AI_ELITE_7  5 / 7  5           11\n",
              "            7 / 7  7           10\n",
              "            4 / 7  4           10\n",
              "AI_ELITE_6  3 / 7  3            9\n",
              "AI_ELITE_4  5 / 7  5            8\n",
              "            3 / 7  3            8\n",
              "AI_ELITE_7  3 / 7  3            7\n",
              "AI_ELITE_4  2 / 7  2            7\n",
              "AI_ELITE_6  7 / 7  7            5\n",
              "            6 / 7  6            4\n",
              "            2 / 7  2            3\n",
              "AI_ELITE_4  7 / 7  7            3\n",
              "AI_ELITE_6  1 / 7  1            2\n",
              "AI_ELITE_7  2 / 7  2            2\n",
              "AI_ELITE_6  0 / 7  0            1\n",
              "AI_ELITE_4  1 / 7  1            1\n",
              "            6 / 7  6            1\n",
              "            0 / 7  0            1\n",
              "dtype: int64"
            ]
          },
          "metadata": {},
          "execution_count": 25
        }
      ]
    },
    {
      "cell_type": "code",
      "source": [
        "# # Print count of unique batches in DataFrame\n",
        "\n",
        "df['Batch'].value_counts()"
      ],
      "metadata": {
        "colab": {
          "base_uri": "https://localhost:8080/",
          "height": 0
        },
        "id": "d_ae_n9wIZQz",
        "outputId": "62aecda5-ec78-4e6a-97ee-7866e4587813"
      },
      "execution_count": 26,
      "outputs": [
        {
          "output_type": "execute_result",
          "data": {
            "text/plain": [
              "AI_ELITE_7    53\n",
              "AI_ELITE_6    48\n",
              "AI_ELITE_4    48\n",
              "Name: Batch, dtype: int64"
            ]
          },
          "metadata": {},
          "execution_count": 26
        }
      ]
    },
    {
      "cell_type": "code",
      "source": [
        "# Plot horizontal bar graph for number of rows in unique batches\n",
        "\n",
        "df['Batch'].value_counts().plot(kind='barh',xlabel='Batches',ylabel='Frequency')"
      ],
      "metadata": {
        "colab": {
          "base_uri": "https://localhost:8080/",
          "height": 282
        },
        "id": "EpibDS711Zqt",
        "outputId": "15f4caee-39a6-4f29-c378-4d0d802c168d"
      },
      "execution_count": 27,
      "outputs": [
        {
          "output_type": "execute_result",
          "data": {
            "text/plain": [
              "<Axes: ylabel='Batches'>"
            ]
          },
          "metadata": {},
          "execution_count": 27
        },
        {
          "output_type": "display_data",
          "data": {
            "text/plain": [
              "<Figure size 432x288 with 1 Axes>"
            ],
            "image/png": "[encoded data removed]"
          },
          "metadata": {
            "needs_background": "light"
          }
        }
      ]
    },
    {
      "cell_type": "markdown",
      "source": [
        "Interpretation : Each batch has 40 - 50 entries in them with heighest being in AI_ELITE_7."
      ],
      "metadata": {
        "id": "xJS82wueMKfr"
      }
    },
    {
      "cell_type": "code",
      "source": [
        "# # Print count of unique obtained scores in DataFrame\n",
        "\n",
        "df['Obtained'].value_counts()"
      ],
      "metadata": {
        "colab": {
          "base_uri": "https://localhost:8080/",
          "height": 0
        },
        "id": "DrWxTTUwIgeD",
        "outputId": "e3c6ce14-3f10-41d4-a569-d130a4db5166"
      },
      "execution_count": 28,
      "outputs": [
        {
          "output_type": "execute_result",
          "data": {
            "text/plain": [
              "4    40\n",
              "5    32\n",
              "3    24\n",
              "6    18\n",
              "7    18\n",
              "2    12\n",
              "1     3\n",
              "0     2\n",
              "Name: Obtained, dtype: int64"
            ]
          },
          "metadata": {},
          "execution_count": 28
        }
      ]
    },
    {
      "cell_type": "markdown",
      "source": [
        "Interpretation : 64% of the students obtained average scores of 3,4,5 ; 24% students obtained high scores of 6,7 and only 3.33% students obtained low scores of 0,1.\n",
        "\n",
        "The horizontal bar graph plots this."
      ],
      "metadata": {
        "id": "8bg2ZmLdMdcM"
      }
    },
    {
      "cell_type": "code",
      "source": [
        "# Plot horizontal bar graph for number of rows in unique obtained scores\n",
        "\n",
        "df['Obtained'].value_counts().plot(kind='barh',ylabel='Scores obtained',xlabel='Frequency')"
      ],
      "metadata": {
        "colab": {
          "base_uri": "https://localhost:8080/",
          "height": 282
        },
        "id": "M1JtlAP81ZoQ",
        "outputId": "a9ef3a6a-f298-47b9-c9fa-a22defcf6907"
      },
      "execution_count": 29,
      "outputs": [
        {
          "output_type": "execute_result",
          "data": {
            "text/plain": [
              "<Axes: ylabel='Frequency'>"
            ]
          },
          "metadata": {},
          "execution_count": 29
        },
        {
          "output_type": "display_data",
          "data": {
            "text/plain": [
              "<Figure size 432x288 with 1 Axes>"
            ],
            "image/png": "[encoded data removed]"
          },
          "metadata": {
            "needs_background": "light"
          }
        }
      ]
    },
    {
      "cell_type": "code",
      "source": [
        "# Scatter plot for scores obtained by each batch\n",
        "\n",
        "df.plot(kind='scatter', x='Obtained', y='Batch',title='Scatterplot for scores obtained by batch')"
      ],
      "metadata": {
        "colab": {
          "base_uri": "https://localhost:8080/",
          "height": 367
        },
        "id": "vbipWeI31ZlE",
        "outputId": "3b05f90f-0817-491a-e3bf-e400c828f067"
      },
      "execution_count": 30,
      "outputs": [
        {
          "output_type": "stream",
          "name": "stderr",
          "text": [
            "/usr/local/lib/python3.9/dist-packages/pandas/plotting/_matplotlib/core.py:1114: UserWarning: No data for colormapping provided via 'c'. Parameters 'cmap' will be ignored\n",
            "  scatter = ax.scatter(\n"
          ]
        },
        {
          "output_type": "execute_result",
          "data": {
            "text/plain": [
              "<Axes: title={'center': 'Scatterplot for scores obtained by batch'}, xlabel='Obtained', ylabel='Batch'>"
            ]
          },
          "metadata": {},
          "execution_count": 30
        },
        {
          "output_type": "display_data",
          "data": {
            "text/plain": [
              "<Figure size 432x288 with 1 Axes>"
            ],
            "image/png": "[encoded data removed]"
          },
          "metadata": {
            "needs_background": "light"
          }
        }
      ]
    },
    {
      "cell_type": "markdown",
      "source": [
        "Interpretation : Scatterplot shows that no one obtained 0,1 in AI_ELITE_7 while in AI_ELITE_6 and AI_ELITE_4 all scores were obtained."
      ],
      "metadata": {
        "id": "cUXGJPdnNJxK"
      }
    },
    {
      "cell_type": "code",
      "source": [
        "# Boxplot for each batch of the DataFrame\n",
        "# Boxplot is used to give info about data's symmetry, skew, variance, and outliers\n",
        "\n",
        "df.boxplot(by='Batch', column='Obtained', figsize=(8, 8))"
      ],
      "metadata": {
        "colab": {
          "base_uri": "https://localhost:8080/",
          "height": 558
        },
        "id": "89pj2b1aYtlC",
        "outputId": "6b07b630-851d-469f-f993-3c5fb0ebc66c"
      },
      "execution_count": 31,
      "outputs": [
        {
          "output_type": "execute_result",
          "data": {
            "text/plain": [
              "<Axes: title={'center': 'Obtained'}, xlabel='Batch'>"
            ]
          },
          "metadata": {},
          "execution_count": 31
        },
        {
          "output_type": "display_data",
          "data": {
            "text/plain": [
              "<Figure size 576x576 with 1 Axes>"
            ],
            "image/png": "[encoded data removed]"
          },
          "metadata": {
            "needs_background": "light"
          }
        }
      ]
    },
    {
      "cell_type": "markdown",
      "source": [
        "Interpretation : Boxplot displays that the best performing students are in AI_ELITE_7 with highest average score of 5. Next comes AI_ELITE_6 with average score of 4. AI_ELITE_4 also scores the average of 4 but contains some outliers with scores 0,1,7."
      ],
      "metadata": {
        "id": "MgOzmDjkNaZc"
      }
    },
    {
      "cell_type": "code",
      "source": [
        "# Histogram of scores obtained along with KDE line\n",
        "\n",
        "y = df['Obtained']\n",
        "plt.figure(1); plt.title('Normal')\n",
        "sns.histplot(y, kde=True, stat='density')"
      ],
      "metadata": {
        "colab": {
          "base_uri": "https://localhost:8080/",
          "height": 312
        },
        "id": "A5C3t33Q7aQM",
        "outputId": "fdeabbcb-c9a9-42d3-851d-592e5fde30bf"
      },
      "execution_count": 32,
      "outputs": [
        {
          "output_type": "execute_result",
          "data": {
            "text/plain": [
              "<Axes: title={'center': 'Normal'}, xlabel='Obtained', ylabel='Density'>"
            ]
          },
          "metadata": {},
          "execution_count": 32
        },
        {
          "output_type": "display_data",
          "data": {
            "text/plain": [
              "<Figure size 432x288 with 1 Axes>"
            ],
            "image/png": "[encoded data removed]"
          },
          "metadata": {
            "needs_background": "light"
          }
        }
      ]
    },
    {
      "cell_type": "markdown",
      "source": [
        "Interpretation : Highest kernel density exists in right half of the histogram i.e scores ranging from 4 to 7"
      ],
      "metadata": {
        "id": "xOlX_D73OE4o"
      }
    },
    {
      "cell_type": "code",
      "source": [
        "# Normal distribution graph for scores obtained of the DataFrame\n",
        "\n",
        "stats.probplot(df['Obtained'], dist=\"norm\", plot=plt)\n",
        "plt.grid()"
      ],
      "metadata": {
        "colab": {
          "base_uri": "https://localhost:8080/",
          "height": 295
        },
        "id": "16AUZfB69UWB",
        "outputId": "ddf6ce30-fe78-42c6-ffaa-b995478c0338"
      },
      "execution_count": 33,
      "outputs": [
        {
          "output_type": "display_data",
          "data": {
            "text/plain": [
              "<Figure size 432x288 with 1 Axes>"
            ],
            "image/png": "[encoded data removed]"
          },
          "metadata": {
            "needs_background": "light"
          }
        }
      ]
    },
    {
      "cell_type": "markdown",
      "source": [
        "Interpretation : As the blue dots do not follow the red diagonal line the data is not normal"
      ],
      "metadata": {
        "id": "uwCZwzmkOnqK"
      }
    },
    {
      "cell_type": "code",
      "source": [
        "# Print skewness of DataFrame\n",
        "\n",
        "print(df.skew())"
      ],
      "metadata": {
        "colab": {
          "base_uri": "https://localhost:8080/",
          "height": 0
        },
        "id": "kVjyIYHm7gD6",
        "outputId": "3429c8bc-68ed-475e-c1e7-aac16b7ca26c"
      },
      "execution_count": 34,
      "outputs": [
        {
          "output_type": "stream",
          "name": "stdout",
          "text": [
            "Obtained   -0.179743\n",
            "dtype: float64\n"
          ]
        },
        {
          "output_type": "stream",
          "name": "stderr",
          "text": [
            "<ipython-input-34-f787b1af9b5c>:3: FutureWarning: Dropping of nuisance columns in DataFrame reductions (with 'numeric_only=None') is deprecated; in a future version this will raise TypeError.  Select only valid columns before calling the reduction.\n",
            "  print(df.skew())\n"
          ]
        }
      ]
    },
    {
      "cell_type": "markdown",
      "source": [
        "Interpretation : Negative skewness indicates long left tail i.e majority of the data is located towards right of the mean value"
      ],
      "metadata": {
        "id": "k9cF0NysPFCz"
      }
    },
    {
      "cell_type": "code",
      "source": [
        "# Print kurtosis of DataFrame\n",
        "\n",
        "print(df.kurt())"
      ],
      "metadata": {
        "colab": {
          "base_uri": "https://localhost:8080/",
          "height": 0
        },
        "id": "SJFD70qZ7hhE",
        "outputId": "5b4bc5be-3eb8-4314-fc3f-ce44400fb4df"
      },
      "execution_count": 35,
      "outputs": [
        {
          "output_type": "stream",
          "name": "stdout",
          "text": [
            "Obtained   -0.238746\n",
            "dtype: float64\n"
          ]
        },
        {
          "output_type": "stream",
          "name": "stderr",
          "text": [
            "<ipython-input-35-ce5205a0fde2>:3: FutureWarning: Dropping of nuisance columns in DataFrame reductions (with 'numeric_only=None') is deprecated; in a future version this will raise TypeError.  Select only valid columns before calling the reduction.\n",
            "  print(df.kurt())\n"
          ]
        }
      ]
    },
    {
      "cell_type": "markdown",
      "source": [
        "Interpretation : Negative kurtosis indicates data is less outlier prone than normal distribution."
      ],
      "metadata": {
        "id": "xwzMdCt8Paiu"
      }
    },
    {
      "cell_type": "code",
      "source": [
        "# Print quartiles of DataFrame and inter quartile range for the same\n",
        "\n",
        "q1 = df['Obtained'].quantile(0.25)\n",
        "q2 = df['Obtained'].quantile(0.5)\n",
        "q3 = df['Obtained'].quantile(0.75)\n",
        "\n",
        "print('Quartile 1:',q1)\n",
        "print('Quartile 2:',q2)\n",
        "print('Quartile 3:',q3)\n",
        "\n",
        "IQR = q3 - q1\n",
        "print('Inter Quartile Range',IQR)"
      ],
      "metadata": {
        "colab": {
          "base_uri": "https://localhost:8080/",
          "height": 0
        },
        "id": "Hhj_tR9M2MU9",
        "outputId": "fc6c1517-8599-41f4-b176-89dbfd4d549e"
      },
      "execution_count": 36,
      "outputs": [
        {
          "output_type": "stream",
          "name": "stdout",
          "text": [
            "Quartile 1: 3.0\n",
            "Quartile 2: 4.0\n",
            "Quartile 3: 5.0\n",
            "Inter Quartile Range 2.0\n"
          ]
        }
      ]
    },
    {
      "cell_type": "markdown",
      "source": [
        "# BATCH A7 ANALYSIS"
      ],
      "metadata": {
        "id": "EuInB3Pw-PU9"
      }
    },
    {
      "cell_type": "code",
      "execution_count": 37,
      "metadata": {
        "id": "6CL03bSd122d",
        "colab": {
          "base_uri": "https://localhost:8080/",
          "height": 0
        },
        "outputId": "8e97f538-2083-4b05-fe9f-5c9e2b2e5b33"
      },
      "outputs": [
        {
          "output_type": "stream",
          "name": "stdout",
          "text": [
            "         Batch  Score  Obtained\n",
            "0   AI_ELITE_7  6 / 7         6\n",
            "1   AI_ELITE_7  6 / 7         6\n",
            "2   AI_ELITE_7  7 / 7         7\n",
            "3   AI_ELITE_7  7 / 7         7\n",
            "4   AI_ELITE_7  4 / 7         4\n",
            "5   AI_ELITE_7  7 / 7         7\n",
            "6   AI_ELITE_7  5 / 7         5\n",
            "7   AI_ELITE_7  7 / 7         7\n",
            "8   AI_ELITE_7  3 / 7         3\n",
            "9   AI_ELITE_7  6 / 7         6\n",
            "10  AI_ELITE_7  6 / 7         6\n",
            "11  AI_ELITE_7  3 / 7         3\n",
            "12  AI_ELITE_7  6 / 7         6\n",
            "13  AI_ELITE_7  5 / 7         5\n",
            "14  AI_ELITE_7  6 / 7         6\n",
            "15  AI_ELITE_7  7 / 7         7\n",
            "16  AI_ELITE_7  7 / 7         7\n",
            "17  AI_ELITE_7  7 / 7         7\n",
            "18  AI_ELITE_7  5 / 7         5\n",
            "19  AI_ELITE_7  7 / 7         7\n",
            "20  AI_ELITE_7  4 / 7         4\n",
            "21  AI_ELITE_7  5 / 7         5\n",
            "22  AI_ELITE_7  6 / 7         6\n",
            "23  AI_ELITE_7  5 / 7         5\n",
            "24  AI_ELITE_7  7 / 7         7\n",
            "25  AI_ELITE_7  3 / 7         3\n",
            "26  AI_ELITE_7  4 / 7         4\n",
            "27  AI_ELITE_7  6 / 7         6\n",
            "28  AI_ELITE_7  4 / 7         4\n",
            "29  AI_ELITE_7  5 / 7         5\n",
            "30  AI_ELITE_7  6 / 7         6\n",
            "31  AI_ELITE_7  5 / 7         5\n",
            "32  AI_ELITE_7  3 / 7         3\n",
            "33  AI_ELITE_7  4 / 7         4\n",
            "34  AI_ELITE_7  6 / 7         6\n",
            "35  AI_ELITE_7  7 / 7         7\n",
            "36  AI_ELITE_7  6 / 7         6\n",
            "37  AI_ELITE_7  2 / 7         2\n",
            "38  AI_ELITE_7  3 / 7         3\n",
            "39  AI_ELITE_7  4 / 7         4\n",
            "40  AI_ELITE_7  4 / 7         4\n",
            "41  AI_ELITE_7  5 / 7         5\n",
            "42  AI_ELITE_7  5 / 7         5\n",
            "43  AI_ELITE_7  5 / 7         5\n",
            "44  AI_ELITE_7  6 / 7         6\n",
            "45  AI_ELITE_7  4 / 7         4\n",
            "46  AI_ELITE_7  5 / 7         5\n",
            "47  AI_ELITE_7  4 / 7         4\n",
            "48  AI_ELITE_7  6 / 7         6\n",
            "49  AI_ELITE_7  3 / 7         3\n",
            "50  AI_ELITE_7  2 / 7         2\n",
            "51  AI_ELITE_7  4 / 7         4\n",
            "52  AI_ELITE_7  3 / 7         3\n"
          ]
        }
      ],
      "source": [
        "# Data of Batch AI_ELITE_7\n",
        "\n",
        "A7 = df.loc[df['Batch'] == 'AI_ELITE_7']\n",
        "print(A7)"
      ]
    },
    {
      "cell_type": "code",
      "source": [
        "# View descriptive statistics of the A7 DataFrame\n",
        "\n",
        "A7['Obtained'].describe()"
      ],
      "metadata": {
        "colab": {
          "base_uri": "https://localhost:8080/",
          "height": 0
        },
        "id": "Ha7FZgoBuTsK",
        "outputId": "7dfc42ae-0714-4f81-de4d-572013f41511"
      },
      "execution_count": 38,
      "outputs": [
        {
          "output_type": "execute_result",
          "data": {
            "text/plain": [
              "count    53.000000\n",
              "mean      5.056604\n",
              "std       1.446682\n",
              "min       2.000000\n",
              "25%       4.000000\n",
              "50%       5.000000\n",
              "75%       6.000000\n",
              "max       7.000000\n",
              "Name: Obtained, dtype: float64"
            ]
          },
          "metadata": {},
          "execution_count": 38
        }
      ]
    },
    {
      "cell_type": "code",
      "source": [
        "# Print quartiles of A7 DataFrame and inter quartile range for the same\n",
        "\n",
        "q1 = A7['Obtained'].quantile(0.25)\n",
        "q2 = A7['Obtained'].quantile(0.5)\n",
        "q3 = A7['Obtained'].quantile(0.75)\n",
        "\n",
        "print('Quartile 1',q1)\n",
        "print('Quartile 2',q2)\n",
        "print('Quartile 3',q3)\n",
        "\n",
        "IQR = q3 - q1\n",
        "print('Inter Quartile Range',IQR)"
      ],
      "metadata": {
        "colab": {
          "base_uri": "https://localhost:8080/",
          "height": 0
        },
        "id": "OLssMHTO3bMp",
        "outputId": "74d32627-1835-4ad7-f70d-172f1214151a"
      },
      "execution_count": 39,
      "outputs": [
        {
          "output_type": "stream",
          "name": "stdout",
          "text": [
            "Quartile 1 4.0\n",
            "Quartile 2 5.0\n",
            "Quartile 3 6.0\n",
            "Inter Quartile Range 2.0\n"
          ]
        }
      ]
    },
    {
      "cell_type": "code",
      "source": [
        "# Print skewness of A7 DataFrame\n",
        "\n",
        "A7['Obtained'].skew()"
      ],
      "metadata": {
        "colab": {
          "base_uri": "https://localhost:8080/",
          "height": 0
        },
        "id": "UZC9soR27yVz",
        "outputId": "79fadab6-18f7-4567-e6fa-5585b306337c"
      },
      "execution_count": 40,
      "outputs": [
        {
          "output_type": "execute_result",
          "data": {
            "text/plain": [
              "-0.3002625954072522"
            ]
          },
          "metadata": {},
          "execution_count": 40
        }
      ]
    },
    {
      "cell_type": "markdown",
      "source": [
        "Interpretation : Negative skewness indicates long left tail i.e majority of the data is located towards right of the mean value"
      ],
      "metadata": {
        "id": "uIopxlfPPr5O"
      }
    },
    {
      "cell_type": "code",
      "source": [
        "# Print kurtosis of A7 DataFrame\n",
        "\n",
        "A7['Obtained'].kurt()"
      ],
      "metadata": {
        "colab": {
          "base_uri": "https://localhost:8080/",
          "height": 0
        },
        "id": "4LzBq8QS73K4",
        "outputId": "fcf50d52-dbd8-41b1-f1f7-841f3c7fee83"
      },
      "execution_count": 41,
      "outputs": [
        {
          "output_type": "execute_result",
          "data": {
            "text/plain": [
              "-0.888830026873602"
            ]
          },
          "metadata": {},
          "execution_count": 41
        }
      ]
    },
    {
      "cell_type": "markdown",
      "source": [
        "Interpretation : Negative kurtosis indicates data is less outlier prone than normal distribution."
      ],
      "metadata": {
        "id": "3EXc2a5KPtlD"
      }
    },
    {
      "cell_type": "code",
      "source": [
        "# Boxplot for scores obtained of A7 batch \n",
        "\n",
        "A7['Obtained'].plot(title='Box plot for scores obtained',ylabel='Scores Obtained',kind='box')"
      ],
      "metadata": {
        "colab": {
          "base_uri": "https://localhost:8080/",
          "height": 298
        },
        "id": "J5ls6JzUY_0C",
        "outputId": "8b6a98f8-306e-4239-f697-3d3dddebd84f"
      },
      "execution_count": 42,
      "outputs": [
        {
          "output_type": "execute_result",
          "data": {
            "text/plain": [
              "<Axes: title={'center': 'Box plot for scores obtained'}, ylabel='Scores Obtained'>"
            ]
          },
          "metadata": {},
          "execution_count": 42
        },
        {
          "output_type": "display_data",
          "data": {
            "text/plain": [
              "<Figure size 432x288 with 1 Axes>"
            ],
            "image/png": "[encoded data removed]"
          },
          "metadata": {
            "needs_background": "light"
          }
        }
      ]
    },
    {
      "cell_type": "markdown",
      "source": [
        "Interpretation : Boxplot displays that average of AI_ELITE_7 is 5 with interquartile range of 4 to 6 and lowest and highest obtained scores as 2 and 7"
      ],
      "metadata": {
        "id": "RwD4s3l1P3an"
      }
    },
    {
      "cell_type": "code",
      "source": [
        "# KDE graph for scores obtained of A7 batch\n",
        "\n",
        "A7['Obtained'].plot(title='KDE Graph for scores obtained',kind='kde')"
      ],
      "metadata": {
        "colab": {
          "base_uri": "https://localhost:8080/",
          "height": 298
        },
        "id": "fID8UCngY_xW",
        "outputId": "a611382b-df07-460e-85a5-c232b644ff10"
      },
      "execution_count": 43,
      "outputs": [
        {
          "output_type": "execute_result",
          "data": {
            "text/plain": [
              "<Axes: title={'center': 'KDE Graph for scores obtained'}, ylabel='Density'>"
            ]
          },
          "metadata": {},
          "execution_count": 43
        },
        {
          "output_type": "display_data",
          "data": {
            "text/plain": [
              "<Figure size 432x288 with 1 Axes>"
            ],
            "image/png": "[encoded data removed]"
          },
          "metadata": {
            "needs_background": "light"
          }
        }
      ]
    },
    {
      "cell_type": "markdown",
      "source": [
        "Interpretation : Highest kernel density in AI_ELITE_7 exists in right half of the histogram i.e scores ranging from 4 to 7 which starts increasing from 2 and decreasing at 6."
      ],
      "metadata": {
        "id": "VGFVJpzIQH2r"
      }
    },
    {
      "cell_type": "code",
      "source": [
        "# Histogram for scores obtained of A7 batch \n",
        "\n",
        "plt.hist(A7['Obtained'], bins=20)\n",
        "plt.title(\"Histogram of Scores\")\n",
        "plt.xlabel(\"Score Obtained\")\n",
        "plt.ylabel(\"Frequency\")\n",
        "plt.show()"
      ],
      "metadata": {
        "colab": {
          "base_uri": "https://localhost:8080/",
          "height": 295
        },
        "id": "MUg_Gg0guTpq",
        "outputId": "4b95cf8c-1854-4dfe-d919-4cb5574a4d01"
      },
      "execution_count": 44,
      "outputs": [
        {
          "output_type": "display_data",
          "data": {
            "text/plain": [
              "<Figure size 432x288 with 1 Axes>"
            ],
            "image/png": "[encoded data removed]"
          },
          "metadata": {
            "needs_background": "light"
          }
        }
      ]
    },
    {
      "cell_type": "code",
      "source": [
        "# Normal distribution graph for scores obtained of A7 batch \n",
        "\n",
        "stats.probplot(A7['Obtained'],dist='norm',plot=plt)\n",
        "plt.grid()"
      ],
      "metadata": {
        "id": "XuO2EhGq0_cQ",
        "colab": {
          "base_uri": "https://localhost:8080/",
          "height": 295
        },
        "outputId": "29051caa-c0a6-4bc6-fba2-eeca6cb98cd1"
      },
      "execution_count": 45,
      "outputs": [
        {
          "output_type": "display_data",
          "data": {
            "text/plain": [
              "<Figure size 432x288 with 1 Axes>"
            ],
            "image/png": "[encoded data removed]"
          },
          "metadata": {
            "needs_background": "light"
          }
        }
      ]
    },
    {
      "cell_type": "markdown",
      "source": [
        "Interpretation : As the blue dots do not follow the red diagonal line the data is not normal"
      ],
      "metadata": {
        "id": "e-_wzILiQT3P"
      }
    },
    {
      "cell_type": "markdown",
      "source": [
        "# BATCH A6 ANALYSIS"
      ],
      "metadata": {
        "id": "rcQ7M7Ep-Sx5"
      }
    },
    {
      "cell_type": "code",
      "execution_count": 46,
      "metadata": {
        "id": "7flULcR812zv",
        "colab": {
          "base_uri": "https://localhost:8080/",
          "height": 0
        },
        "outputId": "898aa57f-ce73-4089-cbf2-2f2e6fce290c"
      },
      "outputs": [
        {
          "output_type": "stream",
          "name": "stdout",
          "text": [
            "          Batch  Score  Obtained\n",
            "53   AI_ELITE_6  3 / 7         3\n",
            "54   AI_ELITE_6  4 / 7         4\n",
            "55   AI_ELITE_6  6 / 7         6\n",
            "56   AI_ELITE_6  6 / 7         6\n",
            "57   AI_ELITE_6  4 / 7         4\n",
            "58   AI_ELITE_6  3 / 7         3\n",
            "59   AI_ELITE_6  4 / 7         4\n",
            "60   AI_ELITE_6  3 / 7         3\n",
            "61   AI_ELITE_6  5 / 7         5\n",
            "62   AI_ELITE_6  3 / 7         3\n",
            "63   AI_ELITE_6  7 / 7         7\n",
            "64   AI_ELITE_6  5 / 7         5\n",
            "65   AI_ELITE_6  5 / 7         5\n",
            "66   AI_ELITE_6  5 / 7         5\n",
            "67   AI_ELITE_6  7 / 7         7\n",
            "68   AI_ELITE_6  0 / 7         0\n",
            "69   AI_ELITE_6  5 / 7         5\n",
            "70   AI_ELITE_6  4 / 7         4\n",
            "71   AI_ELITE_6  1 / 7         1\n",
            "72   AI_ELITE_6  4 / 7         4\n",
            "73   AI_ELITE_6  5 / 7         5\n",
            "74   AI_ELITE_6  7 / 7         7\n",
            "75   AI_ELITE_6  4 / 7         4\n",
            "76   AI_ELITE_6  3 / 7         3\n",
            "77   AI_ELITE_6  3 / 7         3\n",
            "78   AI_ELITE_6  7 / 7         7\n",
            "79   AI_ELITE_6  6 / 7         6\n",
            "80   AI_ELITE_6  3 / 7         3\n",
            "81   AI_ELITE_6  6 / 7         6\n",
            "82   AI_ELITE_6  5 / 7         5\n",
            "83   AI_ELITE_6  5 / 7         5\n",
            "84   AI_ELITE_6  4 / 7         4\n",
            "85   AI_ELITE_6  5 / 7         5\n",
            "86   AI_ELITE_6  5 / 7         5\n",
            "87   AI_ELITE_6  5 / 7         5\n",
            "88   AI_ELITE_6  5 / 7         5\n",
            "89   AI_ELITE_6  4 / 7         4\n",
            "90   AI_ELITE_6  3 / 7         3\n",
            "91   AI_ELITE_6  4 / 7         4\n",
            "92   AI_ELITE_6  2 / 7         2\n",
            "93   AI_ELITE_6  2 / 7         2\n",
            "94   AI_ELITE_6  4 / 7         4\n",
            "95   AI_ELITE_6  2 / 7         2\n",
            "96   AI_ELITE_6  3 / 7         3\n",
            "97   AI_ELITE_6  1 / 7         1\n",
            "98   AI_ELITE_6  7 / 7         7\n",
            "99   AI_ELITE_6  5 / 7         5\n",
            "100  AI_ELITE_6  4 / 7         4\n"
          ]
        }
      ],
      "source": [
        "# Data of Batch AI_ELITE_6\n",
        "\n",
        "A6 = df.loc[df['Batch'] == 'AI_ELITE_6']\n",
        "print(A6)"
      ]
    },
    {
      "cell_type": "code",
      "source": [
        "# View descriptive statistics of the A6 DataFrame\n",
        "\n",
        "A6['Obtained'].describe()"
      ],
      "metadata": {
        "colab": {
          "base_uri": "https://localhost:8080/",
          "height": 0
        },
        "id": "BQ7qDibZ6ucS",
        "outputId": "3a4aca21-7e82-469f-cb44-e132f631c1fb"
      },
      "execution_count": 47,
      "outputs": [
        {
          "output_type": "execute_result",
          "data": {
            "text/plain": [
              "count    48.000000\n",
              "mean      4.229167\n",
              "std       1.640441\n",
              "min       0.000000\n",
              "25%       3.000000\n",
              "50%       4.000000\n",
              "75%       5.000000\n",
              "max       7.000000\n",
              "Name: Obtained, dtype: float64"
            ]
          },
          "metadata": {},
          "execution_count": 47
        }
      ]
    },
    {
      "cell_type": "code",
      "source": [
        "# Print quartiles of A6 DataFrame and inter quartile range for the same\n",
        "\n",
        "q1 = A6['Obtained'].quantile(0.25)\n",
        "q2 = A6['Obtained'].quantile(0.5)\n",
        "q3 = A6['Obtained'].quantile(0.75)\n",
        "\n",
        "print('Quartile 1',q1)\n",
        "print('Quartile 2',q2)\n",
        "print('Quartile 3',q3)\n",
        "\n",
        "IQR = q3 - q1\n",
        "print('Inter Quartile Range',IQR)"
      ],
      "metadata": {
        "colab": {
          "base_uri": "https://localhost:8080/",
          "height": 0
        },
        "id": "hCqMHC9j6uNq",
        "outputId": "b1ee0a6f-3294-4882-d675-d23da05dc55a"
      },
      "execution_count": 48,
      "outputs": [
        {
          "output_type": "stream",
          "name": "stdout",
          "text": [
            "Quartile 1 3.0\n",
            "Quartile 2 4.0\n",
            "Quartile 3 5.0\n",
            "Inter Quartile Range 2.0\n"
          ]
        }
      ]
    },
    {
      "cell_type": "code",
      "source": [
        "# Print skewness of A6 DataFrame\n",
        "\n",
        "A6['Obtained'].skew()"
      ],
      "metadata": {
        "colab": {
          "base_uri": "https://localhost:8080/",
          "height": 0
        },
        "id": "qf_avTxI78EW",
        "outputId": "77cdddde-a267-4bbe-fd04-e0d527ba165b"
      },
      "execution_count": 49,
      "outputs": [
        {
          "output_type": "execute_result",
          "data": {
            "text/plain": [
              "-0.2943730728273874"
            ]
          },
          "metadata": {},
          "execution_count": 49
        }
      ]
    },
    {
      "cell_type": "markdown",
      "source": [
        "Interpretation : Negative skewness indicates long left tail i.e majority of the data is located towards right of the mean value"
      ],
      "metadata": {
        "id": "nNgwYk0zQc5C"
      }
    },
    {
      "cell_type": "code",
      "source": [
        "# Print kurtosis of A6 DataFrame\n",
        "\n",
        "A6['Obtained'].kurt()"
      ],
      "metadata": {
        "colab": {
          "base_uri": "https://localhost:8080/",
          "height": 0
        },
        "id": "ZEO81LI679Ts",
        "outputId": "b08d5228-4d78-4d45-d708-d429c5b7396c"
      },
      "execution_count": 50,
      "outputs": [
        {
          "output_type": "execute_result",
          "data": {
            "text/plain": [
              "0.03894253026938932"
            ]
          },
          "metadata": {},
          "execution_count": 50
        }
      ]
    },
    {
      "cell_type": "markdown",
      "source": [
        "Interpretation : Positive kurtosis indicates data is slighlty outlier prone than normal distribution."
      ],
      "metadata": {
        "id": "xGP9xi4HQfIE"
      }
    },
    {
      "cell_type": "code",
      "source": [
        "# Boxplot for scores obtained of A6 batch\n",
        "\n",
        "A6['Obtained'].plot(title='Box plot for scores obtained',ylabel='Scores Obtained',kind='box')"
      ],
      "metadata": {
        "colab": {
          "base_uri": "https://localhost:8080/",
          "height": 298
        },
        "id": "awaWGnuG6uLK",
        "outputId": "ecfafb46-94ce-44d3-e938-992179c0846e"
      },
      "execution_count": 51,
      "outputs": [
        {
          "output_type": "execute_result",
          "data": {
            "text/plain": [
              "<Axes: title={'center': 'Box plot for scores obtained'}, ylabel='Scores Obtained'>"
            ]
          },
          "metadata": {},
          "execution_count": 51
        },
        {
          "output_type": "display_data",
          "data": {
            "text/plain": [
              "<Figure size 432x288 with 1 Axes>"
            ],
            "image/png": "[encoded data removed]"
          },
          "metadata": {
            "needs_background": "light"
          }
        }
      ]
    },
    {
      "cell_type": "markdown",
      "source": [
        "Interpretation : Boxplot displays that average of AI_ELITE_6 is 4 with interquartile range of 3 to 5 and lowest and highest obtained scores as 0 and 7"
      ],
      "metadata": {
        "id": "mod40WKAQmKT"
      }
    },
    {
      "cell_type": "code",
      "source": [
        "# KDE graph for scores obtained of A6 batch\n",
        "\n",
        "A6['Obtained'].plot(title='KDE Graph for scores obtained',kind='kde')"
      ],
      "metadata": {
        "colab": {
          "base_uri": "https://localhost:8080/",
          "height": 298
        },
        "id": "JMB_LV_p6uIx",
        "outputId": "8c62e863-b236-4383-8e1e-7e011629bde4"
      },
      "execution_count": 52,
      "outputs": [
        {
          "output_type": "execute_result",
          "data": {
            "text/plain": [
              "<Axes: title={'center': 'KDE Graph for scores obtained'}, ylabel='Density'>"
            ]
          },
          "metadata": {},
          "execution_count": 52
        },
        {
          "output_type": "display_data",
          "data": {
            "text/plain": [
              "<Figure size 432x288 with 1 Axes>"
            ],
            "image/png": "[encoded data removed]"
          },
          "metadata": {
            "needs_background": "light"
          }
        }
      ]
    },
    {
      "cell_type": "markdown",
      "source": [
        "Interpretation : Highest kernel density in AI_ELITE_6 exists in right half of the histogram i.e scores ranging from 4 to 7 which starts increasing from 2 and decreasing at 6."
      ],
      "metadata": {
        "id": "TDbiiU_RQvHN"
      }
    },
    {
      "cell_type": "code",
      "source": [
        "# Histogram for scores obtained of A6 batch \n",
        "\n",
        "plt.hist(A6['Obtained'], bins=20)\n",
        "plt.title(\"Histogram of Scores\")\n",
        "plt.xlabel(\"Score Obtained\")\n",
        "plt.ylabel(\"Frequency\")\n",
        "plt.show()"
      ],
      "metadata": {
        "colab": {
          "base_uri": "https://localhost:8080/",
          "height": 295
        },
        "id": "iMRPYqF06uGK",
        "outputId": "fba26401-ca18-4242-ae8d-2f7d4330f436"
      },
      "execution_count": 53,
      "outputs": [
        {
          "output_type": "display_data",
          "data": {
            "text/plain": [
              "<Figure size 432x288 with 1 Axes>"
            ],
            "image/png": "[encoded data removed]"
          },
          "metadata": {
            "needs_background": "light"
          }
        }
      ]
    },
    {
      "cell_type": "code",
      "source": [
        "# Normal distribution graph for scores obtained of A6 batch \n",
        "# As the blue dots do not follow the red diagonal line the data is not normal\n",
        "\n",
        "stats.probplot(A6['Obtained'],dist='norm',plot=plt)\n",
        "plt.grid()"
      ],
      "metadata": {
        "colab": {
          "base_uri": "https://localhost:8080/",
          "height": 295
        },
        "id": "_6C6oKcD6zHs",
        "outputId": "e91f8d41-deaa-469a-f616-8a9828c294ea"
      },
      "execution_count": 54,
      "outputs": [
        {
          "output_type": "display_data",
          "data": {
            "text/plain": [
              "<Figure size 432x288 with 1 Axes>"
            ],
            "image/png": "[encoded data removed]"
          },
          "metadata": {
            "needs_background": "light"
          }
        }
      ]
    },
    {
      "cell_type": "markdown",
      "source": [
        "Interpretation : As the blue dots do not follow the red diagonal line the data is not normal"
      ],
      "metadata": {
        "id": "N33zNPs-QxRp"
      }
    },
    {
      "cell_type": "markdown",
      "source": [
        "# BATCH A4 ANALYSIS"
      ],
      "metadata": {
        "id": "6agtIAIE-Ukj"
      }
    },
    {
      "cell_type": "code",
      "execution_count": 55,
      "metadata": {
        "id": "MrQbmCVf12wq",
        "colab": {
          "base_uri": "https://localhost:8080/",
          "height": 0
        },
        "outputId": "71172e75-2512-4f0c-dc95-b1095370d29c"
      },
      "outputs": [
        {
          "output_type": "stream",
          "name": "stdout",
          "text": [
            "          Batch  Score  Obtained\n",
            "101  AI_ELITE_4  7 / 7         7\n",
            "102  AI_ELITE_4  5 / 7         5\n",
            "103  AI_ELITE_4  4 / 7         4\n",
            "104  AI_ELITE_4  4 / 7         4\n",
            "105  AI_ELITE_4  7 / 7         7\n",
            "106  AI_ELITE_4  5 / 7         5\n",
            "107  AI_ELITE_4  6 / 7         6\n",
            "108  AI_ELITE_4  2 / 7         2\n",
            "109  AI_ELITE_4  2 / 7         2\n",
            "110  AI_ELITE_4  4 / 7         4\n",
            "111  AI_ELITE_4  2 / 7         2\n",
            "112  AI_ELITE_4  5 / 7         5\n",
            "113  AI_ELITE_4  2 / 7         2\n",
            "114  AI_ELITE_4  2 / 7         2\n",
            "115  AI_ELITE_4  4 / 7         4\n",
            "116  AI_ELITE_4  2 / 7         2\n",
            "117  AI_ELITE_4  4 / 7         4\n",
            "118  AI_ELITE_4  5 / 7         5\n",
            "119  AI_ELITE_4  4 / 7         4\n",
            "120  AI_ELITE_4  3 / 7         3\n",
            "121  AI_ELITE_4  3 / 7         3\n",
            "122  AI_ELITE_4  5 / 7         5\n",
            "123  AI_ELITE_4  4 / 7         4\n",
            "124  AI_ELITE_4  5 / 7         5\n",
            "125  AI_ELITE_4  3 / 7         3\n",
            "126  AI_ELITE_4  3 / 7         3\n",
            "127  AI_ELITE_4  3 / 7         3\n",
            "128  AI_ELITE_4  4 / 7         4\n",
            "129  AI_ELITE_4  1 / 7         1\n",
            "130  AI_ELITE_4  3 / 7         3\n",
            "131  AI_ELITE_4  4 / 7         4\n",
            "132  AI_ELITE_4  4 / 7         4\n",
            "133  AI_ELITE_4  4 / 7         4\n",
            "134  AI_ELITE_4  4 / 7         4\n",
            "135  AI_ELITE_4  0 / 7         0\n",
            "136  AI_ELITE_4  5 / 7         5\n",
            "137  AI_ELITE_4  4 / 7         4\n",
            "138  AI_ELITE_4  4 / 7         4\n",
            "139  AI_ELITE_4  7 / 7         7\n",
            "140  AI_ELITE_4  4 / 7         4\n",
            "141  AI_ELITE_4  5 / 7         5\n",
            "142  AI_ELITE_4  4 / 7         4\n",
            "143  AI_ELITE_4  3 / 7         3\n",
            "144  AI_ELITE_4  4 / 7         4\n",
            "145  AI_ELITE_4  4 / 7         4\n",
            "146  AI_ELITE_4  4 / 7         4\n",
            "147  AI_ELITE_4  3 / 7         3\n",
            "148  AI_ELITE_4  2 / 7         2\n"
          ]
        }
      ],
      "source": [
        "# Data of Batch AI_ELITE_4\n",
        "\n",
        "A4 = df.loc[df['Batch'] == 'AI_ELITE_4']\n",
        "print(A4)"
      ]
    },
    {
      "cell_type": "code",
      "source": [
        "# View descriptive statistics of the A4 DataFrame\n",
        "\n",
        "A4['Obtained'].describe()"
      ],
      "metadata": {
        "colab": {
          "base_uri": "https://localhost:8080/",
          "height": 0
        },
        "id": "s5dLmDuK7FE_",
        "outputId": "c3921fd1-effe-4a29-c4d9-92e97e9f705f"
      },
      "execution_count": 56,
      "outputs": [
        {
          "output_type": "execute_result",
          "data": {
            "text/plain": [
              "count    48.000000\n",
              "mean      3.791667\n",
              "std       1.443376\n",
              "min       0.000000\n",
              "25%       3.000000\n",
              "50%       4.000000\n",
              "75%       4.250000\n",
              "max       7.000000\n",
              "Name: Obtained, dtype: float64"
            ]
          },
          "metadata": {},
          "execution_count": 56
        }
      ]
    },
    {
      "cell_type": "code",
      "source": [
        "# View descriptive statistics of the A4 DataFrame\n",
        "\n",
        "q1 = A4['Obtained'].quantile(0.25)\n",
        "q2 = A4['Obtained'].quantile(0.5)\n",
        "q3 = A4['Obtained'].quantile(0.75)\n",
        "\n",
        "print('Quartile 1',q1)\n",
        "print('Quartile 2',q2)\n",
        "print('Quartile 3',q3)\n",
        "\n",
        "IQR = q3 - q1\n",
        "print('Inter Quartile Range',IQR)"
      ],
      "metadata": {
        "colab": {
          "base_uri": "https://localhost:8080/",
          "height": 0
        },
        "id": "iKF2Sfju7FCj",
        "outputId": "2a383fbc-2d0f-4f95-a1b2-d7ea59744246"
      },
      "execution_count": 57,
      "outputs": [
        {
          "output_type": "stream",
          "name": "stdout",
          "text": [
            "Quartile 1 3.0\n",
            "Quartile 2 4.0\n",
            "Quartile 3 4.25\n",
            "Inter Quartile Range 1.25\n"
          ]
        }
      ]
    },
    {
      "cell_type": "code",
      "source": [
        "# Print skewness of A4 DataFrame\n",
        "\n",
        "A4['Obtained'].skew()"
      ],
      "metadata": {
        "colab": {
          "base_uri": "https://localhost:8080/",
          "height": 0
        },
        "id": "WOn059vr8AhA",
        "outputId": "fd05c91c-1df6-4db2-9dbd-90619550382e"
      },
      "execution_count": 58,
      "outputs": [
        {
          "output_type": "execute_result",
          "data": {
            "text/plain": [
              "0.026815543307560592"
            ]
          },
          "metadata": {},
          "execution_count": 58
        }
      ]
    },
    {
      "cell_type": "markdown",
      "source": [
        "Interpretation : Positive skewness indicates long right tail i.e majority of the data is located towards left of the mean value"
      ],
      "metadata": {
        "id": "KXocaagXQ3O_"
      }
    },
    {
      "cell_type": "code",
      "source": [
        "# Print kurtosis of A4 DataFrame\n",
        "\n",
        "A4['Obtained'].kurt()"
      ],
      "metadata": {
        "colab": {
          "base_uri": "https://localhost:8080/",
          "height": 0
        },
        "id": "3kc9re2R8Bvj",
        "outputId": "efb07463-18bd-4759-f09e-5015518eed15"
      },
      "execution_count": 59,
      "outputs": [
        {
          "output_type": "execute_result",
          "data": {
            "text/plain": [
              "0.7055227382053659"
            ]
          },
          "metadata": {},
          "execution_count": 59
        }
      ]
    },
    {
      "cell_type": "markdown",
      "source": [
        "Interpretation : Positive kurtosis indicates data is more outlier prone than normal distribution."
      ],
      "metadata": {
        "id": "Zd01ldcOQzXf"
      }
    },
    {
      "cell_type": "code",
      "source": [
        "# Boxplot for scores obtained of A4 batch\n",
        "\n",
        "A4['Obtained'].plot(title='Box plot for scores obtained',ylabel='Scores Obtained',kind='box')"
      ],
      "metadata": {
        "colab": {
          "base_uri": "https://localhost:8080/",
          "height": 298
        },
        "id": "X9mJ6U5I7E_i",
        "outputId": "b4620ff8-041d-46b6-bac2-db836c7de07d"
      },
      "execution_count": 60,
      "outputs": [
        {
          "output_type": "execute_result",
          "data": {
            "text/plain": [
              "<Axes: title={'center': 'Box plot for scores obtained'}, ylabel='Scores Obtained'>"
            ]
          },
          "metadata": {},
          "execution_count": 60
        },
        {
          "output_type": "display_data",
          "data": {
            "text/plain": [
              "<Figure size 432x288 with 1 Axes>"
            ],
            "image/png": "[encoded data removed]"
          },
          "metadata": {
            "needs_background": "light"
          }
        }
      ]
    },
    {
      "cell_type": "markdown",
      "source": [
        "Interpretation : Boxplot displays that average of AI_ELITE_4 is 4 with interquartile range of 3 to 5 and lowest and highest obtained scores as 2 and 6 but has outliers at 0,1 and 7."
      ],
      "metadata": {
        "id": "oW1GuuZlQ9kE"
      }
    },
    {
      "cell_type": "code",
      "source": [
        "# KDE graph for scores obtained of A4 batch\n",
        "\n",
        "A4['Obtained'].plot(title='KDE Graph for scores obtained',kind='kde')"
      ],
      "metadata": {
        "colab": {
          "base_uri": "https://localhost:8080/",
          "height": 298
        },
        "id": "ceLPI1sT7E9P",
        "outputId": "3f3bbd52-66d5-489f-c5be-261f2eff64bb"
      },
      "execution_count": 61,
      "outputs": [
        {
          "output_type": "execute_result",
          "data": {
            "text/plain": [
              "<Axes: title={'center': 'KDE Graph for scores obtained'}, ylabel='Density'>"
            ]
          },
          "metadata": {},
          "execution_count": 61
        },
        {
          "output_type": "display_data",
          "data": {
            "text/plain": [
              "<Figure size 432x288 with 1 Axes>"
            ],
            "image/png": "[encoded data removed]"
          },
          "metadata": {
            "needs_background": "light"
          }
        }
      ]
    },
    {
      "cell_type": "markdown",
      "source": [
        "Interpretation : Highest kernel density in AI_ELITE_4 exists in right half of the histogram i.e scores ranging from 4 to 7 which starts increasing from 2 and decreasing at 5."
      ],
      "metadata": {
        "id": "PS8lPExNRK0T"
      }
    },
    {
      "cell_type": "code",
      "source": [
        "# Histogram for scores obtained of A4 batch \n",
        "\n",
        "plt.hist(A4['Obtained'], bins=20)\n",
        "plt.title(\"Histogram of Scores\")\n",
        "plt.xlabel(\"Score Obtained\")\n",
        "plt.ylabel(\"Frequency\")\n",
        "plt.show()"
      ],
      "metadata": {
        "colab": {
          "base_uri": "https://localhost:8080/",
          "height": 295
        },
        "id": "_ABjYllB7E64",
        "outputId": "e8d78f10-ca6e-48a7-fb8c-1f78ae789614"
      },
      "execution_count": 62,
      "outputs": [
        {
          "output_type": "display_data",
          "data": {
            "text/plain": [
              "<Figure size 432x288 with 1 Axes>"
            ],
            "image/png": "[encoded data removed]"
          },
          "metadata": {
            "needs_background": "light"
          }
        }
      ]
    },
    {
      "cell_type": "code",
      "source": [
        "# Normal distribution graph for scores obtained of A4 batch \n",
        "# As the blue dots do not follow the red diagonal line the data is not normal\n",
        "\n",
        "stats.probplot(A4['Obtained'],dist='norm',plot=plt)\n",
        "plt.grid()"
      ],
      "metadata": {
        "colab": {
          "base_uri": "https://localhost:8080/",
          "height": 295
        },
        "id": "16vv3C9f7E4Y",
        "outputId": "d679f52e-284e-4ce6-c60a-56aa1e993128"
      },
      "execution_count": 63,
      "outputs": [
        {
          "output_type": "display_data",
          "data": {
            "text/plain": [
              "<Figure size 432x288 with 1 Axes>"
            ],
            "image/png": "[encoded data removed]"
          },
          "metadata": {
            "needs_background": "light"
          }
        }
      ]
    },
    {
      "cell_type": "markdown",
      "source": [
        "Interpretation : As the blue dots do not follow the red diagonal line the data is not normal"
      ],
      "metadata": {
        "id": "YXBfcIJRRd7j"
      }
    },
    {
      "cell_type": "markdown",
      "source": [
        "# INTER BATCH ANALYSIS"
      ],
      "metadata": {
        "id": "9FLpWP2b-W5O"
      }
    },
    {
      "cell_type": "markdown",
      "source": [
        "T-test used to determine whether a process or treatment actually has an effect on the population of interest, or whether two groups are different from one another."
      ],
      "metadata": {
        "id": "PfdHMFmUR3zp"
      }
    },
    {
      "cell_type": "code",
      "execution_count": 64,
      "metadata": {
        "id": "4p1Ds8N812lv",
        "colab": {
          "base_uri": "https://localhost:8080/",
          "height": 0
        },
        "outputId": "8abbaeea-be8b-49ac-b932-1c42431266b5"
      },
      "outputs": [
        {
          "output_type": "execute_result",
          "data": {
            "text/plain": [
              "Ttest_indResult(statistic=2.6935860864710466, pvalue=0.00830361827784165)"
            ]
          },
          "metadata": {},
          "execution_count": 64
        }
      ],
      "source": [
        "# T-test between scores obtained of batches AI_ELITE_7 and AI_ELITE_6\n",
        "\n",
        "batch1 = A7['Obtained']\n",
        "batch2 = A6['Obtained']\n",
        "stats.ttest_ind(batch1, batch2)"
      ]
    },
    {
      "cell_type": "code",
      "execution_count": 65,
      "metadata": {
        "id": "HizjvO-M12i4",
        "colab": {
          "base_uri": "https://localhost:8080/",
          "height": 0
        },
        "outputId": "60d840e1-0ce3-41a4-d2ca-29836fc87947"
      },
      "outputs": [
        {
          "output_type": "execute_result",
          "data": {
            "text/plain": [
              "Ttest_indResult(statistic=-1.3872036113842057, pvalue=0.16866003403905933)"
            ]
          },
          "metadata": {},
          "execution_count": 65
        }
      ],
      "source": [
        "# T-test between scores obtained of batches AI_ELITE_4 and AI_ELITE_6\n",
        "\n",
        "batch1 = A4['Obtained']\n",
        "batch2 = A6['Obtained']\n",
        "stats.ttest_ind(batch1, batch2)"
      ]
    },
    {
      "cell_type": "code",
      "execution_count": 66,
      "metadata": {
        "id": "OnWfJJOz12fx",
        "colab": {
          "base_uri": "https://localhost:8080/",
          "height": 0
        },
        "outputId": "c2ab7525-465c-401f-a9d7-d3d7cefde9dd"
      },
      "outputs": [
        {
          "output_type": "execute_result",
          "data": {
            "text/plain": [
              "Ttest_indResult(statistic=4.3930378021422225, pvalue=2.807694478724992e-05)"
            ]
          },
          "metadata": {},
          "execution_count": 66
        }
      ],
      "source": [
        "# T-test between scores obtained of batches AI_ELITE_7 and AI_ELITE_4\n",
        "\n",
        "batch1 = A7['Obtained']\n",
        "batch2 = A4['Obtained']\n",
        "stats.ttest_ind(batch1, batch2)"
      ]
    }
  ],
  "metadata": {
    "colab": {
      "provenance": []
    },
    "kernelspec": {
      "display_name": "Python 3",
      "name": "python3"
    },
    "language_info": {
      "name": "python"
    }
  },
  "nbformat": 4,
  "nbformat_minor": 0
}